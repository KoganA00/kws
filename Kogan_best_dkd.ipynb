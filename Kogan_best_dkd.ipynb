{
 "cells": [
  {
   "cell_type": "markdown",
   "metadata": {
    "cellId": "dsjeuk35bh7j76fbbzr7ic",
    "id": "_lhrn5O-qUYZ"
   },
   "source": [
    "# Import and misc"
   ]
  },
  {
   "cell_type": "code",
   "execution_count": null,
   "metadata": {
    "cellId": "3frxilb12dqikdzf2o8hq",
    "colab": {
     "base_uri": "https://localhost:8080/"
    },
    "id": "meO-Mp9jiAFC",
    "outputId": "8eedcae0-369b-453d-85b7-10a7c22d6514"
   },
   "outputs": [
    {
     "name": "stdout",
     "output_type": "stream",
     "text": [
      "Collecting torchaudio==0.9.1\n",
      "  Downloading torchaudio-0.9.1-cp37-cp37m-manylinux1_x86_64.whl (1.9 MB)\n",
      "\u001b[K     |████████████████████████████████| 1.9 MB 5.0 MB/s \n",
      "\u001b[?25hCollecting torch==1.9.1\n",
      "  Downloading torch-1.9.1-cp37-cp37m-manylinux1_x86_64.whl (831.4 MB)\n",
      "\u001b[K     |████████████████████████████████| 831.4 MB 6.0 kB/s \n",
      "\u001b[?25hRequirement already satisfied: typing-extensions in /usr/local/lib/python3.7/dist-packages (from torch==1.9.1->torchaudio==0.9.1) (3.10.0.2)\n",
      "Installing collected packages: torch, torchaudio\n",
      "  Attempting uninstall: torch\n",
      "    Found existing installation: torch 1.10.0+cu111\n",
      "    Uninstalling torch-1.10.0+cu111:\n",
      "      Successfully uninstalled torch-1.10.0+cu111\n",
      "  Attempting uninstall: torchaudio\n",
      "    Found existing installation: torchaudio 0.10.0+cu111\n",
      "    Uninstalling torchaudio-0.10.0+cu111:\n",
      "      Successfully uninstalled torchaudio-0.10.0+cu111\n",
      "\u001b[31mERROR: pip's dependency resolver does not currently take into account all the packages that are installed. This behaviour is the source of the following dependency conflicts.\n",
      "torchvision 0.11.1+cu111 requires torch==1.10.0, but you have torch 1.9.1 which is incompatible.\n",
      "torchtext 0.11.0 requires torch==1.10.0, but you have torch 1.9.1 which is incompatible.\u001b[0m\n",
      "Successfully installed torch-1.9.1 torchaudio-0.9.1\n"
     ]
    }
   ],
   "source": [
    "%pip install torchaudio==0.9.1"
   ]
  },
  {
   "cell_type": "code",
   "execution_count": null,
   "metadata": {
    "cellId": "trgpd97s3elwhtyfva34",
    "colab": {
     "base_uri": "https://localhost:8080/"
    },
    "id": "kiSPh6_wAuCP",
    "outputId": "b76935c8-55af-4c87-c820-eb6794270e58"
   },
   "outputs": [
    {
     "name": "stdout",
     "output_type": "stream",
     "text": [
      "Collecting thop\n",
      "  Downloading thop-0.0.31.post2005241907-py3-none-any.whl (8.7 kB)\n",
      "Requirement already satisfied: torch>=1.0.0 in /usr/local/lib/python3.7/dist-packages (from thop) (1.9.1)\n",
      "Requirement already satisfied: typing-extensions in /usr/local/lib/python3.7/dist-packages (from torch>=1.0.0->thop) (3.10.0.2)\n",
      "Installing collected packages: thop\n",
      "Successfully installed thop-0.0.31.post2005241907\n"
     ]
    }
   ],
   "source": [
    "%pip install thop"
   ]
  },
  {
   "cell_type": "code",
   "execution_count": null,
   "metadata": {
    "cellId": "3721k2i51sl8mudxwrwzyw",
    "colab": {
     "base_uri": "https://localhost:8080/"
    },
    "id": "K3joFKw3AuCQ",
    "outputId": "a89e489a-4ca5-476f-d552-63ee248fc75f"
   },
   "outputs": [
    {
     "name": "stdout",
     "output_type": "stream",
     "text": [
      "Collecting wandb\n",
      "  Downloading wandb-0.12.7-py2.py3-none-any.whl (1.7 MB)\n",
      "\u001b[K     |████████████████████████████████| 1.7 MB 5.1 MB/s \n",
      "\u001b[?25hCollecting subprocess32>=3.5.3\n",
      "  Downloading subprocess32-3.5.4.tar.gz (97 kB)\n",
      "\u001b[K     |████████████████████████████████| 97 kB 6.2 MB/s \n",
      "\u001b[?25hRequirement already satisfied: protobuf>=3.12.0 in /usr/local/lib/python3.7/dist-packages (from wandb) (3.17.3)\n",
      "Requirement already satisfied: Click!=8.0.0,>=7.0 in /usr/local/lib/python3.7/dist-packages (from wandb) (7.1.2)\n",
      "Collecting yaspin>=1.0.0\n",
      "  Downloading yaspin-2.1.0-py3-none-any.whl (18 kB)\n",
      "Requirement already satisfied: requests<3,>=2.0.0 in /usr/local/lib/python3.7/dist-packages (from wandb) (2.23.0)\n",
      "Collecting configparser>=3.8.1\n",
      "  Downloading configparser-5.1.0-py3-none-any.whl (19 kB)\n",
      "Requirement already satisfied: psutil>=5.0.0 in /usr/local/lib/python3.7/dist-packages (from wandb) (5.4.8)\n",
      "Collecting pathtools\n",
      "  Downloading pathtools-0.1.2.tar.gz (11 kB)\n",
      "Requirement already satisfied: python-dateutil>=2.6.1 in /usr/local/lib/python3.7/dist-packages (from wandb) (2.8.2)\n",
      "Requirement already satisfied: promise<3,>=2.0 in /usr/local/lib/python3.7/dist-packages (from wandb) (2.3)\n",
      "Collecting docker-pycreds>=0.4.0\n",
      "  Downloading docker_pycreds-0.4.0-py2.py3-none-any.whl (9.0 kB)\n",
      "Requirement already satisfied: six>=1.13.0 in /usr/local/lib/python3.7/dist-packages (from wandb) (1.15.0)\n",
      "Collecting GitPython>=1.0.0\n",
      "  Downloading GitPython-3.1.24-py3-none-any.whl (180 kB)\n",
      "\u001b[K     |████████████████████████████████| 180 kB 44.3 MB/s \n",
      "\u001b[?25hCollecting sentry-sdk>=1.0.0\n",
      "  Downloading sentry_sdk-1.5.0-py2.py3-none-any.whl (140 kB)\n",
      "\u001b[K     |████████████████████████████████| 140 kB 50.9 MB/s \n",
      "\u001b[?25hRequirement already satisfied: PyYAML in /usr/local/lib/python3.7/dist-packages (from wandb) (3.13)\n",
      "Collecting shortuuid>=0.5.0\n",
      "  Downloading shortuuid-1.0.8-py3-none-any.whl (9.5 kB)\n",
      "Collecting gitdb<5,>=4.0.1\n",
      "  Downloading gitdb-4.0.9-py3-none-any.whl (63 kB)\n",
      "\u001b[K     |████████████████████████████████| 63 kB 1.7 MB/s \n",
      "\u001b[?25hRequirement already satisfied: typing-extensions>=3.7.4.3 in /usr/local/lib/python3.7/dist-packages (from GitPython>=1.0.0->wandb) (3.10.0.2)\n",
      "Collecting smmap<6,>=3.0.1\n",
      "  Downloading smmap-5.0.0-py3-none-any.whl (24 kB)\n",
      "Requirement already satisfied: chardet<4,>=3.0.2 in /usr/local/lib/python3.7/dist-packages (from requests<3,>=2.0.0->wandb) (3.0.4)\n",
      "Requirement already satisfied: urllib3!=1.25.0,!=1.25.1,<1.26,>=1.21.1 in /usr/local/lib/python3.7/dist-packages (from requests<3,>=2.0.0->wandb) (1.24.3)\n",
      "Requirement already satisfied: certifi>=2017.4.17 in /usr/local/lib/python3.7/dist-packages (from requests<3,>=2.0.0->wandb) (2021.10.8)\n",
      "Requirement already satisfied: idna<3,>=2.5 in /usr/local/lib/python3.7/dist-packages (from requests<3,>=2.0.0->wandb) (2.10)\n",
      "Requirement already satisfied: termcolor<2.0.0,>=1.1.0 in /usr/local/lib/python3.7/dist-packages (from yaspin>=1.0.0->wandb) (1.1.0)\n",
      "Building wheels for collected packages: subprocess32, pathtools\n",
      "  Building wheel for subprocess32 (setup.py) ... \u001b[?25l\u001b[?25hdone\n",
      "  Created wheel for subprocess32: filename=subprocess32-3.5.4-py3-none-any.whl size=6502 sha256=6843a3e4f6e2bd1c8d3d9624e2305cfda47c37ef4854bbaeba719be2131bd815\n",
      "  Stored in directory: /root/.cache/pip/wheels/50/ca/fa/8fca8d246e64f19488d07567547ddec8eb084e8c0d7a59226a\n",
      "  Building wheel for pathtools (setup.py) ... \u001b[?25l\u001b[?25hdone\n",
      "  Created wheel for pathtools: filename=pathtools-0.1.2-py3-none-any.whl size=8807 sha256=76e0d53e60273c551efb6c872d31b4a29b899ae881e53b22e452355416a327ee\n",
      "  Stored in directory: /root/.cache/pip/wheels/3e/31/09/fa59cef12cdcfecc627b3d24273699f390e71828921b2cbba2\n",
      "Successfully built subprocess32 pathtools\n",
      "Installing collected packages: smmap, gitdb, yaspin, subprocess32, shortuuid, sentry-sdk, pathtools, GitPython, docker-pycreds, configparser, wandb\n",
      "Successfully installed GitPython-3.1.24 configparser-5.1.0 docker-pycreds-0.4.0 gitdb-4.0.9 pathtools-0.1.2 sentry-sdk-1.5.0 shortuuid-1.0.8 smmap-5.0.0 subprocess32-3.5.4 wandb-0.12.7 yaspin-2.1.0\n"
     ]
    }
   ],
   "source": [
    "%pip install wandb"
   ]
  },
  {
   "cell_type": "code",
   "execution_count": null,
   "metadata": {
    "cellId": "8i2txfsr1p6llk47fb7n5j",
    "id": "bbUpoArCqUYa"
   },
   "outputs": [],
   "source": [
    "from typing import Tuple, Union, List, Callable, Optional\n",
    "from tqdm import tqdm\n",
    "from itertools import islice\n",
    "import pathlib\n",
    "import dataclasses\n",
    "\n",
    "import numpy as np\n",
    "import pandas as pd\n",
    "\n",
    "import torch\n",
    "import torch.nn.functional as F\n",
    "from torch import nn\n",
    "from torch import distributions\n",
    "from torch.utils.data import DataLoader, Dataset, WeightedRandomSampler\n",
    "from torch.nn.utils.rnn import pad_sequence\n",
    "\n",
    "import torchaudio\n",
    "from IPython import display as display_"
   ]
  },
  {
   "cell_type": "markdown",
   "metadata": {
    "cellId": "crv979j8x3h7u51lqamjpt",
    "id": "812GwLfqqUYf"
   },
   "source": [
    "# Task"
   ]
  },
  {
   "cell_type": "markdown",
   "metadata": {
    "cellId": "ymrejpko36y5ru18fea2e",
    "id": "i1DuQIyRqUYf"
   },
   "source": [
    "In this notebook we will implement a model for finding a keyword in a stream.\n",
    "\n",
    "We will implement the version with CRNN because it is easy and improves the model. \n",
    "(from https://www.dropbox.com/s/22ah2ba7dug6pzw/KWS_Attention.pdf)"
   ]
  },
  {
   "cell_type": "code",
   "execution_count": null,
   "metadata": {
    "cellId": "wfeqt8xov9pvi9i6dbm9nr",
    "id": "8PdhApeEh9pH"
   },
   "outputs": [],
   "source": [
    "\n",
    "@dataclasses.dataclass\n",
    "class TaskConfig:\n",
    "    keyword: str = 'sheila'  # We will use 1 key word -- 'sheila'\n",
    "    batch_size: int = 128\n",
    "    learning_rate: float = 3e-4\n",
    "    weight_decay: float = 1e-5\n",
    "    num_epochs: int = 20\n",
    "    n_mels: int = 40\n",
    "    cnn_out_channels: int = 8\n",
    "    kernel_size: Tuple[int, int] = (5, 20)\n",
    "    stride: Tuple[int, int] = (2, 8)\n",
    "    hidden_size: int = 64\n",
    "    gru_num_layers: int = 2\n",
    "    bidirectional: bool = False\n",
    "    num_classes: int = 2\n",
    "    sample_rate: int = 16000\n",
    "    device: torch.device = torch.device(\n",
    "        'cuda:0' if torch.cuda.is_available() else 'cpu')"
   ]
  },
  {
   "cell_type": "markdown",
   "metadata": {
    "cellId": "qn3wwil43k5hzgw9lalod",
    "id": "KA1gPmE1h9pI"
   },
   "source": [
    "# Data"
   ]
  },
  {
   "cell_type": "code",
   "execution_count": null,
   "metadata": {
    "cellId": "596la7ml3bokxsvrsdtv3",
    "colab": {
     "base_uri": "https://localhost:8080/"
    },
    "id": "Y2N8zcx9MF1X",
    "outputId": "352cd9ca-19a5-4a79-ab6b-fb29e20606fa"
   },
   "outputs": [
    {
     "name": "stdout",
     "output_type": "stream",
     "text": [
      "--2021-11-21 16:33:52--  http://download.tensorflow.org/data/speech_commands_v0.01.tar.gz\n",
      "Resolving download.tensorflow.org (download.tensorflow.org)... 173.194.217.128, 2607:f8b0:400c:c13::80\n",
      "Connecting to download.tensorflow.org (download.tensorflow.org)|173.194.217.128|:80... connected.\n",
      "HTTP request sent, awaiting response... 200 OK\n",
      "Length: 1489096277 (1.4G) [application/gzip]\n",
      "Saving to: ‘speech_commands_v0.01.tar.gz’\n",
      "\n",
      "speech_commands_v0. 100%[===================>]   1.39G   166MB/s    in 9.4s    \n",
      "\n",
      "2021-11-21 16:34:01 (150 MB/s) - ‘speech_commands_v0.01.tar.gz’ saved [1489096277/1489096277]\n",
      "\n"
     ]
    }
   ],
   "source": [
    "!wget http://download.tensorflow.org/data/speech_commands_v0.01.tar.gz -O speech_commands_v0.01.tar.gz\n",
    "!mkdir speech_commands && tar -C speech_commands -xvzf speech_commands_v0.01.tar.gz 1> log"
   ]
  },
  {
   "cell_type": "code",
   "execution_count": null,
   "metadata": {
    "cellId": "xb7e3mrhffi1h2jrei4baj",
    "id": "e3tTsaakAuCW"
   },
   "outputs": [],
   "source": [
    "import random\n",
    "random.seed(42)\n",
    "np.random.seed(42)\n",
    "torch.manual_seed(42)\n",
    "if torch.cuda.is_available():\n",
    "    torch.cuda.manual_seed_all(42)"
   ]
  },
  {
   "cell_type": "code",
   "execution_count": null,
   "metadata": {
    "cellId": "qnfpufi0uhn4masoy0os3t",
    "id": "12wBTK0mNUsG"
   },
   "outputs": [],
   "source": [
    "class SpeechCommandDataset(Dataset):\n",
    "\n",
    "    def __init__(\n",
    "        self,\n",
    "        transform: Optional[Callable] = None,\n",
    "        path2dir: str = None,\n",
    "        keywords: Union[str, List[str]] = None,\n",
    "        csv: Optional[pd.DataFrame] = None\n",
    "    ):        \n",
    "        self.transform = transform\n",
    "\n",
    "        if csv is None:\n",
    "            path2dir = pathlib.Path(path2dir)\n",
    "            keywords = keywords if isinstance(keywords, list) else [keywords]\n",
    "            \n",
    "            all_keywords = [\n",
    "                p.stem for p in path2dir.glob('*')\n",
    "                if p.is_dir() and not p.stem.startswith('_')\n",
    "            ]\n",
    "\n",
    "            triplets = []\n",
    "            for keyword in all_keywords:\n",
    "                paths = (path2dir / keyword).rglob('*.wav')\n",
    "                if keyword in keywords:\n",
    "                    for path2wav in paths:\n",
    "                        triplets.append((path2wav.as_posix(), keyword, 1))\n",
    "                else:\n",
    "                    for path2wav in paths:\n",
    "                        triplets.append((path2wav.as_posix(), keyword, 0))\n",
    "            \n",
    "            self.csv = pd.DataFrame(\n",
    "                triplets,\n",
    "                columns=['path', 'keyword', 'label']\n",
    "            )\n",
    "\n",
    "        else:\n",
    "            self.csv = csv\n",
    "    \n",
    "    def __getitem__(self, index: int):\n",
    "        instance = self.csv.iloc[index]\n",
    "\n",
    "        path2wav = instance['path']\n",
    "        wav, sr = torchaudio.load(path2wav)\n",
    "        wav = wav.sum(dim=0)\n",
    "        \n",
    "        if self.transform:\n",
    "            wav = self.transform(wav)\n",
    "\n",
    "        return {\n",
    "            'wav': wav,\n",
    "            'keywors': instance['keyword'],\n",
    "            'label': instance['label']\n",
    "        }\n",
    "\n",
    "    def __len__(self):\n",
    "        return len(self.csv)"
   ]
  },
  {
   "cell_type": "code",
   "execution_count": null,
   "metadata": {
    "cellId": "xsb9ejvo1kcoa1nx488av",
    "id": "-1rVkT81Pk90"
   },
   "outputs": [],
   "source": [
    "dataset = SpeechCommandDataset(\n",
    "    path2dir='speech_commands', keywords=TaskConfig.keyword\n",
    ")"
   ]
  },
  {
   "cell_type": "code",
   "execution_count": null,
   "metadata": {
    "cellId": "ybv8bb2qx8avk1c4qdp0u",
    "colab": {
     "base_uri": "https://localhost:8080/",
     "height": 203
    },
    "id": "M9lDuA6VAuCY",
    "outputId": "356b2674-14bd-490e-de7a-6018bd89429a"
   },
   "outputs": [
    {
     "data": {
      "text/html": [
       "<div>\n",
       "<style scoped>\n",
       "    .dataframe tbody tr th:only-of-type {\n",
       "        vertical-align: middle;\n",
       "    }\n",
       "\n",
       "    .dataframe tbody tr th {\n",
       "        vertical-align: top;\n",
       "    }\n",
       "\n",
       "    .dataframe thead th {\n",
       "        text-align: right;\n",
       "    }\n",
       "</style>\n",
       "<table border=\"1\" class=\"dataframe\">\n",
       "  <thead>\n",
       "    <tr style=\"text-align: right;\">\n",
       "      <th></th>\n",
       "      <th>path</th>\n",
       "      <th>keyword</th>\n",
       "      <th>label</th>\n",
       "    </tr>\n",
       "  </thead>\n",
       "  <tbody>\n",
       "    <tr>\n",
       "      <th>50866</th>\n",
       "      <td>speech_commands/yes/1b63157b_nohash_1.wav</td>\n",
       "      <td>yes</td>\n",
       "      <td>0</td>\n",
       "    </tr>\n",
       "    <tr>\n",
       "      <th>1003</th>\n",
       "      <td>speech_commands/house/51995cea_nohash_0.wav</td>\n",
       "      <td>house</td>\n",
       "      <td>0</td>\n",
       "    </tr>\n",
       "    <tr>\n",
       "      <th>38126</th>\n",
       "      <td>speech_commands/stop/a1cff772_nohash_2.wav</td>\n",
       "      <td>stop</td>\n",
       "      <td>0</td>\n",
       "    </tr>\n",
       "    <tr>\n",
       "      <th>144</th>\n",
       "      <td>speech_commands/house/4fd4d073_nohash_1.wav</td>\n",
       "      <td>house</td>\n",
       "      <td>0</td>\n",
       "    </tr>\n",
       "    <tr>\n",
       "      <th>31651</th>\n",
       "      <td>speech_commands/sheila/7ff085e1_nohash_0.wav</td>\n",
       "      <td>sheila</td>\n",
       "      <td>1</td>\n",
       "    </tr>\n",
       "  </tbody>\n",
       "</table>\n",
       "</div>"
      ],
      "text/plain": [
       "                                               path keyword  label\n",
       "50866     speech_commands/yes/1b63157b_nohash_1.wav     yes      0\n",
       "1003    speech_commands/house/51995cea_nohash_0.wav   house      0\n",
       "38126    speech_commands/stop/a1cff772_nohash_2.wav    stop      0\n",
       "144     speech_commands/house/4fd4d073_nohash_1.wav   house      0\n",
       "31651  speech_commands/sheila/7ff085e1_nohash_0.wav  sheila      1"
      ]
     },
     "execution_count": 10,
     "metadata": {},
     "output_type": "execute_result"
    }
   ],
   "source": [
    "import random\n",
    "random.seed(42)\n",
    "np.random.seed(42)\n",
    "torch.manual_seed(42)\n",
    "if torch.cuda.is_available():\n",
    "    torch.cuda.manual_seed_all(42)\n",
    "dataset.csv.sample(5)"
   ]
  },
  {
   "cell_type": "markdown",
   "metadata": {
    "cellId": "jyislpmhgthlkggdjtkvo",
    "id": "LUxfDJw1qUYi"
   },
   "source": [
    "### Augmentations"
   ]
  },
  {
   "cell_type": "code",
   "execution_count": null,
   "metadata": {
    "cellId": "3p1ka9f7xas7fysmyvo8kl",
    "id": "dkmkxPWQqUYe"
   },
   "outputs": [],
   "source": [
    "class AugsCreation:\n",
    "\n",
    "    def __init__(self):\n",
    "        self.background_noises = [\n",
    "            'speech_commands/_background_noise_/white_noise.wav',\n",
    "            'speech_commands/_background_noise_/dude_miaowing.wav',\n",
    "            'speech_commands/_background_noise_/doing_the_dishes.wav',\n",
    "            'speech_commands/_background_noise_/exercise_bike.wav',\n",
    "            'speech_commands/_background_noise_/pink_noise.wav',\n",
    "            'speech_commands/_background_noise_/running_tap.wav'\n",
    "        ]\n",
    "\n",
    "        self.noises = [\n",
    "            torchaudio.load(p)[0].squeeze()\n",
    "            for p in self.background_noises\n",
    "        ]\n",
    "\n",
    "    def add_rand_noise(self, audio):\n",
    "\n",
    "        # randomly choose noise\n",
    "        noise_num = torch.randint(low=0, high=len(\n",
    "            self.background_noises), size=(1,)).item()\n",
    "        noise = self.noises[noise_num]\n",
    "\n",
    "        noise_level = torch.Tensor([1])  # [0, 40]\n",
    "\n",
    "        noise_energy = torch.norm(noise)\n",
    "        audio_energy = torch.norm(audio)\n",
    "        alpha = (audio_energy / noise_energy) * \\\n",
    "            torch.pow(10, -noise_level / 20)\n",
    "\n",
    "        start = torch.randint(\n",
    "            low=0,\n",
    "            high=max(int(noise.size(0) - audio.size(0) - 1), 1),\n",
    "            size=(1,)\n",
    "        ).item()\n",
    "        noise_sample = noise[start: start + audio.size(0)]\n",
    "\n",
    "        audio_new = audio + alpha * noise_sample\n",
    "        audio_new.clamp_(-1, 1)\n",
    "        return audio_new\n",
    "\n",
    "    def __call__(self, wav):\n",
    "        aug_num = torch.randint(low=0, high=4, size=(1,)).item()   # choose 1 random aug from augs\n",
    "        augs = [\n",
    "            lambda x: x,\n",
    "            lambda x: (x + distributions.Normal(0, 0.01).sample(x.size())).clamp_(-1, 1),\n",
    "            lambda x: torchaudio.transforms.Vol(.25)(x),\n",
    "            lambda x: self.add_rand_noise(x)\n",
    "        ]\n",
    "\n",
    "        return augs[aug_num](wav)"
   ]
  },
  {
   "cell_type": "code",
   "execution_count": null,
   "metadata": {
    "cellId": "92qaqnj3os32xc6dmydt6",
    "id": "6dA1lExIAuCZ"
   },
   "outputs": [],
   "source": []
  },
  {
   "cell_type": "code",
   "execution_count": null,
   "metadata": {
    "cellId": "jx1q21e17f4c62enbq9fz",
    "id": "ClWThxyYh9pM"
   },
   "outputs": [],
   "source": [
    "random.seed(42)\n",
    "np.random.seed(42)\n",
    "torch.manual_seed(42)\n",
    "if torch.cuda.is_available():\n",
    "    torch.cuda.manual_seed_all(42)\n",
    "indexes = torch.randperm(len(dataset))\n",
    "train_indexes = indexes[:int(len(dataset) * 0.8)]\n",
    "val_indexes = indexes[int(len(dataset) * 0.8):]\n",
    "\n",
    "train_df = dataset.csv.iloc[train_indexes].reset_index(drop=True)\n",
    "val_df = dataset.csv.iloc[val_indexes].reset_index(drop=True)"
   ]
  },
  {
   "cell_type": "code",
   "execution_count": null,
   "metadata": {
    "cellId": "n5kdagfn8pnmrwywyu5oif",
    "id": "PDPLht5fqUYe"
   },
   "outputs": [],
   "source": [
    "# Sample is a dict of utt, word and label\n",
    "train_set = SpeechCommandDataset(csv=train_df, transform=AugsCreation())\n",
    "val_set = SpeechCommandDataset(csv=val_df)"
   ]
  },
  {
   "cell_type": "code",
   "execution_count": null,
   "metadata": {
    "cellId": "g16z6z6rg0d7w1v6vhpu64",
    "id": "mmrJd8WIhkLP"
   },
   "outputs": [],
   "source": []
  },
  {
   "cell_type": "markdown",
   "metadata": {
    "cellId": "4qw4hd9c15xw0ledivdu5q",
    "id": "2vbPDqd6qUYj"
   },
   "source": [
    "### Sampler for oversampling:"
   ]
  },
  {
   "cell_type": "code",
   "execution_count": null,
   "metadata": {
    "cellId": "hcje1tgnzsawzpesjf9r",
    "id": "rfnjRKo2qUYj"
   },
   "outputs": [],
   "source": [
    "# We should provide to WeightedRandomSampler _weight for every sample_; by default it is 1/len(target)\n",
    "\n",
    "def get_sampler(target):\n",
    "    class_sample_count = np.array(\n",
    "        [len(np.where(target == t)[0]) for t in np.unique(target)])   # for every class count it's number of occ.\n",
    "    weight = 1. / class_sample_count\n",
    "    samples_weight = np.array([weight[t] for t in target])\n",
    "    samples_weight = torch.from_numpy(samples_weight)\n",
    "    samples_weigth = samples_weight.float()\n",
    "    sampler = WeightedRandomSampler(samples_weight, len(samples_weight))\n",
    "    return sampler"
   ]
  },
  {
   "cell_type": "code",
   "execution_count": null,
   "metadata": {
    "cellId": "u5qqx0wwahb4ro2csk19xi",
    "id": "UM8gLmHeqUYj"
   },
   "outputs": [],
   "source": [
    "train_sampler = get_sampler(train_set.csv['label'].values)"
   ]
  },
  {
   "cell_type": "code",
   "execution_count": null,
   "metadata": {
    "cellId": "bwqbm6dq3cdp1uj0gfqr1n",
    "id": "lyBqbxp0h9pO"
   },
   "outputs": [],
   "source": [
    "class Collator:\n",
    "    \n",
    "    def __call__(self, data):\n",
    "        wavs = []\n",
    "        labels = []    \n",
    "\n",
    "        for el in data:\n",
    "            wavs.append(el['wav'])\n",
    "            labels.append(el['label'])\n",
    "\n",
    "        # torch.nn.utils.rnn.pad_sequence takes list(Tensors) and returns padded (with 0.0) Tensor\n",
    "        wavs = pad_sequence(wavs, batch_first=True)    \n",
    "        labels = torch.Tensor(labels).long()\n",
    "        return wavs, labels"
   ]
  },
  {
   "cell_type": "markdown",
   "metadata": {
    "cellId": "8ht7s8qxjwnldx288tlc5",
    "id": "e8G9xPRVqUYk"
   },
   "source": [
    "###  Dataloaders"
   ]
  },
  {
   "cell_type": "code",
   "execution_count": null,
   "metadata": {
    "cellId": "ab1vrgtsbebx3w82ltysf",
    "id": "6wGBMcQiqUYk"
   },
   "outputs": [],
   "source": [
    "# Here we are obliged to use shuffle=False because of our sampler with randomness inside.\n",
    "\n",
    "train_loader = DataLoader(train_set, batch_size=TaskConfig.batch_size,\n",
    "                          shuffle=False, collate_fn=Collator(),\n",
    "                          sampler=train_sampler,\n",
    "                          #num_workers=2, \n",
    "                          pin_memory=True)\n",
    "\n",
    "val_loader = DataLoader(val_set, batch_size=TaskConfig.batch_size,\n",
    "                        shuffle=False, collate_fn=Collator(),\n",
    "                        #num_workers=2, \n",
    "                        pin_memory=True)"
   ]
  },
  {
   "cell_type": "markdown",
   "metadata": {
    "cellId": "n6zdq1iozkp1c5emxsfjy2",
    "id": "kTlsn6cpqUYk"
   },
   "source": [
    "### Creating MelSpecs on GPU for speeeed: "
   ]
  },
  {
   "cell_type": "code",
   "execution_count": null,
   "metadata": {
    "cellId": "gqran0rwk8myqmt6zotcjc",
    "id": "pRXMt6it56fW"
   },
   "outputs": [],
   "source": [
    "\n",
    "class LogMelspec:\n",
    "\n",
    "    def __init__(self, is_train, config):\n",
    "        # with augmentations\n",
    "        if is_train:\n",
    "            self.melspec = nn.Sequential(\n",
    "                torchaudio.transforms.MelSpectrogram(\n",
    "                    sample_rate=config.sample_rate,\n",
    "                    n_fft=400,\n",
    "                    win_length=400,\n",
    "                    hop_length=160,\n",
    "                    n_mels=config.n_mels\n",
    "                ),\n",
    "                torchaudio.transforms.FrequencyMasking(freq_mask_param=15),\n",
    "                torchaudio.transforms.TimeMasking(time_mask_param=35),\n",
    "            ).to(config.device)\n",
    "\n",
    "        # no augmentations\n",
    "        else:\n",
    "            self.melspec = torchaudio.transforms.MelSpectrogram(\n",
    "                sample_rate=config.sample_rate,\n",
    "                n_fft=400,\n",
    "                win_length=400,\n",
    "                hop_length=160,\n",
    "                n_mels=config.n_mels\n",
    "            ).to(config.device)\n",
    "\n",
    "    def __call__(self, batch):\n",
    "        # already on device\n",
    "        return torch.log(self.melspec(batch).clamp_(min=1e-9, max=1e9))"
   ]
  },
  {
   "cell_type": "code",
   "execution_count": null,
   "metadata": {
    "cellId": "v3y8jbx8yjp5zynogde2s",
    "id": "Pqkz4_gn8BiF"
   },
   "outputs": [],
   "source": [
    "#!g1.1\n",
    "melspec_train = LogMelspec(is_train=True, config=TaskConfig)\n",
    "melspec_val = LogMelspec(is_train=False, config=TaskConfig)"
   ]
  },
  {
   "cell_type": "markdown",
   "metadata": {
    "cellId": "pt1kuydzk8pv0ewcfahvnd",
    "id": "zoAxmihY8yxr"
   },
   "source": [
    "### Quality measurment functions:"
   ]
  },
  {
   "cell_type": "code",
   "execution_count": null,
   "metadata": {
    "cellId": "iykj496iacg9ujpoa22a6o",
    "id": "euwD1UyuqUYk"
   },
   "outputs": [],
   "source": [
    "# FA - true: 0, model: 1\n",
    "# FR - true: 1, model: 0\n",
    "\n",
    "def count_FA_FR(preds, labels):\n",
    "    FA = torch.sum(preds[labels == 0])\n",
    "    FR = torch.sum(labels[preds == 0])\n",
    "    \n",
    "    # torch.numel - returns total number of elements in tensor\n",
    "    return FA.item() / torch.numel(preds), FR.item() / torch.numel(preds)"
   ]
  },
  {
   "cell_type": "code",
   "execution_count": null,
   "metadata": {
    "cellId": "74twem1q2fkicu6rbgcbw",
    "id": "YHBUrkT1qUYk"
   },
   "outputs": [],
   "source": [
    "def get_au_fa_fr(probs, labels):\n",
    "    sorted_probs, _ = torch.sort(probs)\n",
    "    sorted_probs = torch.cat((torch.Tensor([0]), sorted_probs, torch.Tensor([1])))\n",
    "    labels = torch.cat(labels, dim=0)\n",
    "        \n",
    "    FAs, FRs = [], []\n",
    "    for prob in sorted_probs:\n",
    "        preds = (probs >= prob) * 1\n",
    "        FA, FR = count_FA_FR(preds, labels)        \n",
    "        FAs.append(FA)\n",
    "        FRs.append(FR)\n",
    "    # plt.plot(FAs, FRs)\n",
    "    # plt.show()\n",
    "\n",
    "    # ~ area under curve using trapezoidal rule\n",
    "    return -np.trapz(FRs, x=FAs)"
   ]
  },
  {
   "cell_type": "markdown",
   "metadata": {
    "cellId": "zbsx3862u8lzqcod0i8i",
    "id": "CcEP5cEZqUYl"
   },
   "source": [
    "# Model"
   ]
  },
  {
   "cell_type": "code",
   "execution_count": null,
   "metadata": {
    "cellId": "hcxubbrws0iyhw34e99rzm",
    "colab": {
     "base_uri": "https://localhost:8080/"
    },
    "id": "2cP_pFIsy5p2",
    "outputId": "6d31b5d3-8484-4495-9124-090cea6e89b9"
   },
   "outputs": [
    {
     "data": {
      "text/plain": [
       "CRNN(\n",
       "  (conv): Sequential(\n",
       "    (0): Conv2d(1, 8, kernel_size=(5, 20), stride=(2, 8))\n",
       "    (1): Flatten(start_dim=1, end_dim=2)\n",
       "  )\n",
       "  (gru): GRU(144, 64, num_layers=2, batch_first=True, dropout=0.1)\n",
       "  (attention): Attention(\n",
       "    (energy): Sequential(\n",
       "      (0): Linear(in_features=64, out_features=64, bias=True)\n",
       "      (1): Tanh()\n",
       "      (2): Linear(in_features=64, out_features=1, bias=True)\n",
       "    )\n",
       "  )\n",
       "  (classifier): Linear(in_features=64, out_features=2, bias=True)\n",
       ")"
      ]
     },
     "execution_count": 22,
     "metadata": {},
     "output_type": "execute_result"
    }
   ],
   "source": [
    "class Attention(nn.Module):\n",
    "\n",
    "    def __init__(self, hidden_size: int):\n",
    "        super().__init__()\n",
    "\n",
    "        self.energy = nn.Sequential(\n",
    "            nn.Linear(hidden_size, hidden_size),\n",
    "            nn.Tanh(),\n",
    "            nn.Linear(hidden_size, 1)\n",
    "        )\n",
    "    \n",
    "    def forward(self, input):\n",
    "        energy = self.energy(input)\n",
    "        alpha = torch.softmax(energy, dim=-2)\n",
    "        return (input * alpha).sum(dim=-2)\n",
    "\n",
    "class CRNN(nn.Module):\n",
    "\n",
    "    def __init__(self, config: TaskConfig):\n",
    "        super().__init__()\n",
    "        self.config = config\n",
    "\n",
    "        self.conv = nn.Sequential(\n",
    "            nn.Conv2d(\n",
    "                in_channels=1, out_channels=config.cnn_out_channels,\n",
    "                kernel_size=config.kernel_size, stride=config.stride\n",
    "            ),\n",
    "            nn.Flatten(start_dim=1, end_dim=2),\n",
    "        )\n",
    "\n",
    "        self.conv_out_frequency = (config.n_mels - config.kernel_size[0]) // \\\n",
    "            config.stride[0] + 1\n",
    "        \n",
    "        self.gru = nn.GRU(\n",
    "            input_size=self.conv_out_frequency * config.cnn_out_channels,\n",
    "            hidden_size=config.hidden_size,\n",
    "            num_layers=config.gru_num_layers,\n",
    "            dropout=0.1,\n",
    "            bidirectional=config.bidirectional,\n",
    "            batch_first=True\n",
    "        )\n",
    "\n",
    "        self.attention = Attention(config.hidden_size)\n",
    "        self.classifier = nn.Linear(config.hidden_size, config.num_classes)\n",
    "    \n",
    "    def forward(self, input):\n",
    "        input = input.unsqueeze(dim=1)\n",
    "        conv_output = self.conv(input).transpose(-1, -2)\n",
    "        gru_output, _ = self.gru(conv_output)\n",
    "        contex_vector = self.attention(gru_output)\n",
    "        output = self.classifier(contex_vector)\n",
    "        return output\n",
    "\n",
    "config = TaskConfig()\n",
    "model = CRNN(config)\n",
    "model"
   ]
  },
  {
   "cell_type": "code",
   "execution_count": null,
   "metadata": {
    "id": "FioD210EBB2C"
   },
   "outputs": [],
   "source": []
  },
  {
   "cell_type": "code",
   "execution_count": null,
   "metadata": {
    "cellId": "yfs6is5bacqmd93s9cz8m",
    "id": "DmmSFvWaqUYn"
   },
   "outputs": [],
   "source": [
    "def train_epoch(model, opt, loader, log_melspec, device):\n",
    "    model.train()\n",
    "    for i, (batch, labels) in tqdm(enumerate(loader), total=len(loader)):\n",
    "        batch, labels = batch.to(device), labels.to(device)\n",
    "        batch = log_melspec(batch)\n",
    "\n",
    "        opt.zero_grad()\n",
    "\n",
    "        # run model # with autocast():\n",
    "        logits = model(batch)\n",
    "        # we need probabilities so we use softmax & CE separately\n",
    "        probs = F.softmax(logits, dim=-1)\n",
    "        loss = F.cross_entropy(logits, labels)\n",
    "\n",
    "        loss.backward()\n",
    "        torch.nn.utils.clip_grad_norm_(model.parameters(), 5)\n",
    "\n",
    "        opt.step()\n",
    "\n",
    "        # logging\n",
    "        argmax_probs = torch.argmax(probs, dim=-1)\n",
    "        FA, FR = count_FA_FR(argmax_probs, labels)\n",
    "        acc = torch.sum(argmax_probs == labels) / torch.numel(argmax_probs)\n",
    "\n",
    "    return acc"
   ]
  },
  {
   "cell_type": "code",
   "execution_count": null,
   "metadata": {
    "cellId": "h7tr8ce2pgeytnjbdjfpm",
    "id": "UIeRbn4tqUYo"
   },
   "outputs": [],
   "source": [
    "@torch.no_grad()\n",
    "def validation(model, loader, log_melspec, device):\n",
    "    model.eval()\n",
    "\n",
    "    val_losses, accs, FAs, FRs = [], [], [], []\n",
    "    all_probs, all_labels = [], []\n",
    "    for i, (batch, labels) in tqdm(enumerate(loader)):\n",
    "        batch, labels = batch.to(device), labels.to(device)\n",
    "        batch = log_melspec(batch)\n",
    "\n",
    "        output = model(batch)\n",
    "        # we need probabilities so we use softmax & CE separately\n",
    "        probs = F.softmax(output, dim=-1)\n",
    "        loss = F.cross_entropy(output, labels)\n",
    "\n",
    "        # logging\n",
    "        argmax_probs = torch.argmax(probs, dim=-1)\n",
    "        all_probs.append(probs[:, 1].cpu())\n",
    "        all_labels.append(labels.cpu())\n",
    "        val_losses.append(loss.item())\n",
    "        accs.append(\n",
    "            torch.sum(argmax_probs == labels).item() /  # ???\n",
    "            torch.numel(argmax_probs)\n",
    "        )\n",
    "        FA, FR = count_FA_FR(argmax_probs, labels)\n",
    "        FAs.append(FA)\n",
    "        FRs.append(FR)\n",
    "\n",
    "    # area under FA/FR curve for whole loader\n",
    "    au_fa_fr = get_au_fa_fr(torch.cat(all_probs, dim=0).cpu(), all_labels)\n",
    "    return au_fa_fr"
   ]
  },
  {
   "cell_type": "code",
   "execution_count": null,
   "metadata": {
    "cellId": "5ing5pcjvadknv7t2njnp",
    "id": "PpyvKwp0k3IU"
   },
   "outputs": [],
   "source": [
    "from collections import defaultdict\n",
    "from IPython.display import clear_output\n",
    "from matplotlib import pyplot as plt\n",
    "\n",
    "history = defaultdict(list)"
   ]
  },
  {
   "cell_type": "markdown",
   "metadata": {
    "cellId": "fw8stif91uv03iobk4tkfem",
    "id": "GSNW-nZCJ4Q0"
   },
   "source": [
    "# Training"
   ]
  },
  {
   "cell_type": "code",
   "execution_count": null,
   "metadata": {
    "cellId": "l7hwn88hkc1os8z03ay84",
    "id": "6ryoEXbrAuCd"
   },
   "outputs": [],
   "source": []
  },
  {
   "cell_type": "code",
   "execution_count": null,
   "metadata": {
    "cellId": "7ggh9ksvliayh3d3b6hm3i",
    "colab": {
     "base_uri": "https://localhost:8080/"
    },
    "id": "Q8sVpHNoocgA",
    "outputId": "72e004b0-2271-4f2a-8e17-93706f5c34d7"
   },
   "outputs": [
    {
     "name": "stdout",
     "output_type": "stream",
     "text": [
      "CRNN(\n",
      "  (conv): Sequential(\n",
      "    (0): Conv2d(1, 8, kernel_size=(5, 20), stride=(2, 8))\n",
      "    (1): Flatten(start_dim=1, end_dim=2)\n",
      "  )\n",
      "  (gru): GRU(144, 64, num_layers=2, batch_first=True, dropout=0.1)\n",
      "  (attention): Attention(\n",
      "    (energy): Sequential(\n",
      "      (0): Linear(in_features=64, out_features=64, bias=True)\n",
      "      (1): Tanh()\n",
      "      (2): Linear(in_features=64, out_features=1, bias=True)\n",
      "    )\n",
      "  )\n",
      "  (classifier): Linear(in_features=64, out_features=2, bias=True)\n",
      ")\n",
      "TaskConfig(keyword='sheila', batch_size=128, learning_rate=0.0003, weight_decay=1e-05, num_epochs=20, n_mels=40, cnn_out_channels=8, kernel_size=(5, 20), stride=(2, 8), hidden_size=64, gru_num_layers=2, bidirectional=False, num_classes=2, sample_rate=16000, device=device(type='cpu'))\n"
     ]
    }
   ],
   "source": [
    "#!g1.1\n",
    "random.seed(42)\n",
    "np.random.seed(42)\n",
    "torch.manual_seed(42)\n",
    "if torch.cuda.is_available():\n",
    "    torch.cuda.manual_seed_all(42)\n",
    "    \n",
    "    \n",
    "config = TaskConfig()\n",
    "model = CRNN(config).to(config.device)\n",
    "\n",
    "print(model)\n",
    "print(config)\n",
    "opt = torch.optim.Adam(\n",
    "    model.parameters(),\n",
    "    lr=config.learning_rate,\n",
    "    weight_decay=config.weight_decay\n",
    ")"
   ]
  },
  {
   "cell_type": "code",
   "execution_count": null,
   "metadata": {
    "cellId": "dfvrwplwwahlh4iwyid648",
    "id": "ccU_LY-vAuCe"
   },
   "outputs": [],
   "source": [
    "#!g1.1\n"
   ]
  },
  {
   "cell_type": "code",
   "execution_count": null,
   "metadata": {
    "cellId": "6cvdqem1fx5cvcs02f7nzv",
    "colab": {
     "base_uri": "https://localhost:8080/"
    },
    "id": "zedXm9dmINAE",
    "outputId": "589aa892-66fd-41a2-c945-815a3348f641"
   },
   "outputs": [
    {
     "data": {
      "text/plain": [
       "70443"
      ]
     },
     "execution_count": 27,
     "metadata": {},
     "output_type": "execute_result"
    }
   ],
   "source": [
    "sum([p.numel() for p in model.parameters()])"
   ]
  },
  {
   "cell_type": "code",
   "execution_count": null,
   "metadata": {
    "cellId": "355go80cxzisxwpac4y0p",
    "id": "vt2kjqC-IobK"
   },
   "outputs": [],
   "source": []
  },
  {
   "cell_type": "code",
   "execution_count": null,
   "metadata": {
    "cellId": "p4hdl9083g5hld3hp0b86",
    "colab": {
     "base_uri": "https://localhost:8080/",
     "height": 297
    },
    "id": "32oooz4lqUYo",
    "outputId": "ae6ad76d-c127-4438-a2a5-7806838dcb37"
   },
   "outputs": [
    {
     "data": {
      "image/png": "[encoded data removed]",
      "text/plain": [
       "<Figure size 432x288 with 1 Axes>"
      ]
     },
     "metadata": {
      "needs_background": "light"
     },
     "output_type": "display_data"
    },
    {
     "name": "stdout",
     "output_type": "stream",
     "text": [
      "END OF EPOCH 19\n"
     ]
    }
   ],
   "source": [
    "#!g1.1\n",
    "# TRAIN\n",
    "\n",
    "for n in range(TaskConfig.num_epochs):\n",
    "\n",
    "    train_epoch(model, opt, train_loader,\n",
    "                melspec_train, config.device)\n",
    "\n",
    "    au_fa_fr = validation(model, val_loader,\n",
    "                          melspec_val, config.device)\n",
    "    history['val_metric'].append(au_fa_fr)\n",
    "\n",
    "    clear_output()\n",
    "    plt.plot(history['val_metric'])\n",
    "    plt.ylabel('Metric')\n",
    "    plt.xlabel('Epoch')\n",
    "    plt.grid()\n",
    "    plt.show()\n",
    "\n",
    "    print('END OF EPOCH', n)"
   ]
  },
  {
   "cell_type": "code",
   "execution_count": null,
   "metadata": {
    "cellId": "vj7ps5fwqweac6s09dnu",
    "id": "2rxi-A8bAuCe"
   },
   "outputs": [],
   "source": [
    "#!g1.1\n",
    "torch.save(model.state_dict(), 'base_model.pt')"
   ]
  },
  {
   "cell_type": "code",
   "execution_count": null,
   "metadata": {
    "cellId": "dum3fj89qdoo7kpdzbxe",
    "colab": {
     "base_uri": "https://localhost:8080/"
    },
    "id": "WBkTUHZcVugz",
    "outputId": "94e0c5a2-d1ed-4f7b-8691-069bb2aabfd9"
   },
   "outputs": [
    {
     "data": {
      "text/plain": [
       "defaultdict(list,\n",
       "            {'val_metric': [0.000497902332430891,\n",
       "              0.00019790774798032084,\n",
       "              0.00012132620987178575,\n",
       "              8.969820769184061e-05,\n",
       "              5.461499546242601e-05,\n",
       "              4.0961246596819505e-05,\n",
       "              3.462371106566824e-05,\n",
       "              2.971838695398618e-05,\n",
       "              2.064174708310004e-05,\n",
       "              1.6912029844898962e-05,\n",
       "              1.818311747967789e-05,\n",
       "              1.4489205526963542e-05,\n",
       "              1.2352823492921966e-05,\n",
       "              1.2913772965547409e-05,\n",
       "              1.056255921858545e-05,\n",
       "              9.500335749145783e-06,\n",
       "              6.952192932006807e-06,\n",
       "              8.17554018613676e-06,\n",
       "              8.109897162744421e-06,\n",
       "              7.513142404632249e-06]})"
      ]
     },
     "metadata": {},
     "output_type": "display_data"
    }
   ],
   "source": [
    "history"
   ]
  },
  {
   "cell_type": "markdown",
   "metadata": {
    "id": "qty-Mauqs2Xm"
   },
   "source": [
    "## Итоговый эксперимент, показавший наилучшее ужимание"
   ]
  },
  {
   "cell_type": "code",
   "execution_count": null,
   "metadata": {
    "cellId": "02q4bq53zpz8djx5jhp3tuk",
    "colab": {
     "base_uri": "https://localhost:8080/"
    },
    "id": "Qo4dD-GFAuCg",
    "outputId": "d2a7c624-1410-4377-b441-066031082e23"
   },
   "outputs": [
    {
     "data": {
      "text/plain": [
       "CRNN(\n",
       "  (conv): Sequential(\n",
       "    (0): Conv2d(1, 8, kernel_size=(5, 20), stride=(2, 8))\n",
       "    (1): Flatten(start_dim=1, end_dim=2)\n",
       "  )\n",
       "  (gru): GRU(144, 64, num_layers=2, batch_first=True, dropout=0.1)\n",
       "  (attention): Attention(\n",
       "    (energy): Sequential(\n",
       "      (0): Linear(in_features=64, out_features=64, bias=True)\n",
       "      (1): Tanh()\n",
       "      (2): Linear(in_features=64, out_features=1, bias=True)\n",
       "    )\n",
       "  )\n",
       "  (classifier): Linear(in_features=64, out_features=2, bias=True)\n",
       ")"
      ]
     },
     "execution_count": 29,
     "metadata": {},
     "output_type": "execute_result"
    }
   ],
   "source": [
    "\n",
    "tconfig = TaskConfig()\n",
    "teacher = CRNN(tconfig)\n",
    "teacher.load_state_dict(torch.load('base_model.pt', map_location='cpu'))\n",
    "teacher.eval()"
   ]
  },
  {
   "cell_type": "code",
   "execution_count": null,
   "metadata": {
    "cellId": "pfcc2aw32ajkm12gpi138",
    "id": "wDfRS3JAAuCh"
   },
   "outputs": [],
   "source": [
    "@dataclasses.dataclass\n",
    "class StudentConfig:\n",
    "    keyword: str = 'sheila'  # We will use 1 key word -- 'sheila'\n",
    "    batch_size: int = 128\n",
    "    learning_rate: float = 3e-4\n",
    "    weight_decay: float = 1e-5\n",
    "    num_epochs: int = 50\n",
    "    n_mels: int = 40\n",
    "    cnn_out_channels: int = 4 #Уменьшим к-во каналов в 2 раза\n",
    "    kernel_size: Tuple[int, int] = (5, 20)\n",
    "    stride: Tuple[int, int] = (2, 8)\n",
    "    hidden_size: int = 16 #Уменьшим размер скрытого слоя в 4 раза\n",
    "    gru_num_layers: int = 1 #Уменьшим к-во gru в 2 раза\n",
    "    bidirectional: bool = False\n",
    "    num_classes: int = 2\n",
    "    sample_rate: int = 16000\n",
    "    device: torch.device = torch.device(\n",
    "        'cuda:0' if torch.cuda.is_available() else 'cpu')\n",
    "    alpha: float = 0.2\n",
    "    T: float = 5\n",
    "    "
   ]
  },
  {
   "cell_type": "code",
   "execution_count": null,
   "metadata": {
    "cellId": "wwt2cyx4ps6yiv6jys4n7",
    "colab": {
     "base_uri": "https://localhost:8080/"
    },
    "id": "_6HJ4TJXAuCh",
    "outputId": "fe064bce-dfdf-4db8-9a4b-ac468b4ce45e"
   },
   "outputs": [
    {
     "name": "stderr",
     "output_type": "stream",
     "text": [
      "/usr/local/lib/python3.7/dist-packages/torch/nn/modules/rnn.py:65: UserWarning: dropout option adds dropout after all but last recurrent layer, so non-zero dropout expects num_layers greater than 1, but got dropout=0.1 and num_layers=1\n",
      "  \"num_layers={}\".format(dropout, num_layers))\n"
     ]
    }
   ],
   "source": [
    "\n",
    "random.seed(42)\n",
    "np.random.seed(42)\n",
    "torch.manual_seed(42)\n",
    "if torch.cuda.is_available():\n",
    "    torch.cuda.manual_seed_all(42)\n",
    "    \n",
    "sconfig = StudentConfig()\n",
    "student = CRNN(sconfig)"
   ]
  },
  {
   "cell_type": "code",
   "execution_count": null,
   "metadata": {
    "cellId": "vyyci80kcgc7ttu9b050wk",
    "colab": {
     "base_uri": "https://localhost:8080/"
    },
    "id": "ESss3gFzAuCh",
    "outputId": "0f6869e1-b18f-4365-f150-f202e2f481c9"
   },
   "outputs": [
    {
     "name": "stdout",
     "output_type": "stream",
     "text": [
      "number of parameters for student: 5047\n",
      "number of parameters for teacher: 70443\n"
     ]
    }
   ],
   "source": [
    "print(\"number of parameters for student:\", sum([p.numel() for p in student.parameters()]))\n",
    "  \n",
    "print(\"number of parameters for teacher:\", sum([p.numel() for p in teacher.parameters()]))"
   ]
  },
  {
   "cell_type": "code",
   "execution_count": null,
   "metadata": {
    "cellId": "qfblxt2yick3zhigpcty",
    "id": "3coaBw8tAuCh"
   },
   "outputs": [],
   "source": [
    "sopt = torch.optim.Adam(\n",
    "    student.parameters(),\n",
    "    lr=sconfig.learning_rate,\n",
    "    weight_decay=sconfig.weight_decay\n",
    ")"
   ]
  },
  {
   "cell_type": "code",
   "execution_count": null,
   "metadata": {
    "colab": {
     "base_uri": "https://localhost:8080/"
    },
    "id": "aBMraj03XR7M",
    "outputId": "7b8b4ae7-91ae-47c7-fde9-e98f24e01860"
   },
   "outputs": [
    {
     "name": "stdout",
     "output_type": "stream",
     "text": [
      "[INFO] Register count_convNd() for <class 'torch.nn.modules.conv.Conv2d'>.\n",
      "\u001b[91m[WARN] Cannot find rule for <class 'torch.nn.modules.flatten.Flatten'>. Treat it as zero Macs and zero Params.\u001b[00m\n",
      "\u001b[91m[WARN] Cannot find rule for <class 'torch.nn.modules.container.Sequential'>. Treat it as zero Macs and zero Params.\u001b[00m\n",
      "[INFO] Register count_gru() for <class 'torch.nn.modules.rnn.GRU'>.\n",
      "[INFO] Register count_linear() for <class 'torch.nn.modules.linear.Linear'>.\n",
      "\u001b[91m[WARN] Cannot find rule for <class 'torch.nn.modules.activation.Tanh'>. Treat it as zero Macs and zero Params.\u001b[00m\n",
      "\u001b[91m[WARN] Cannot find rule for <class '__main__.Attention'>. Treat it as zero Macs and zero Params.\u001b[00m\n",
      "\u001b[91m[WARN] Cannot find rule for <class '__main__.CRNN'>. Treat it as zero Macs and zero Params.\u001b[00m\n",
      "(119527424.0, 70443.0)\n"
     ]
    }
   ],
   "source": [
    "from thop import profile\n",
    "for x, y in train_loader:\n",
    "    print(profile(teacher, (melspec_train(x.to(config.device)), ) )) \n",
    "    break"
   ]
  },
  {
   "cell_type": "code",
   "execution_count": null,
   "metadata": {
    "colab": {
     "base_uri": "https://localhost:8080/"
    },
    "id": "k-jIueVhXTOV",
    "outputId": "a458fe50-42a5-4b76-bab9-04c0893228c9"
   },
   "outputs": [
    {
     "name": "stdout",
     "output_type": "stream",
     "text": [
      "[INFO] Register count_convNd() for <class 'torch.nn.modules.conv.Conv2d'>.\n",
      "\u001b[91m[WARN] Cannot find rule for <class 'torch.nn.modules.flatten.Flatten'>. Treat it as zero Macs and zero Params.\u001b[00m\n",
      "\u001b[91m[WARN] Cannot find rule for <class 'torch.nn.modules.container.Sequential'>. Treat it as zero Macs and zero Params.\u001b[00m\n",
      "[INFO] Register count_gru() for <class 'torch.nn.modules.rnn.GRU'>.\n",
      "[INFO] Register count_linear() for <class 'torch.nn.modules.linear.Linear'>.\n",
      "\u001b[91m[WARN] Cannot find rule for <class 'torch.nn.modules.activation.Tanh'>. Treat it as zero Macs and zero Params.\u001b[00m\n",
      "\u001b[91m[WARN] Cannot find rule for <class '__main__.Attention'>. Treat it as zero Macs and zero Params.\u001b[00m\n",
      "\u001b[91m[WARN] Cannot find rule for <class '__main__.CRNN'>. Treat it as zero Macs and zero Params.\u001b[00m\n",
      "(16866304.0, 5047.0)\n"
     ]
    }
   ],
   "source": [
    "from thop import profile\n",
    "for x, y in train_loader:\n",
    "    print(profile(student, (melspec_train(x.to(config.device)), ) )) \n",
    "    break"
   ]
  },
  {
   "cell_type": "code",
   "execution_count": 1,
   "metadata": {},
   "outputs": [
    {
     "data": {
      "text/plain": [
       "7.086758545322081"
      ]
     },
     "execution_count": 1,
     "metadata": {},
     "output_type": "execute_result"
    }
   ],
   "source": [
    "119527424.0 / 16866304.0"
   ]
  },
  {
   "cell_type": "markdown",
   "metadata": {},
   "source": [
    "Таким образом, ужимание по времени примерно в 7 раз"
   ]
  },
  {
   "cell_type": "code",
   "execution_count": 4,
   "metadata": {
    "id": "uQogiViwtMNz"
   },
   "outputs": [],
   "source": [
    "VERY_IMPORTANT_CONSTANT = 5e-5 * 1.1"
   ]
  },
  {
   "cell_type": "code",
   "execution_count": null,
   "metadata": {
    "cellId": "t3d9h0by1cr5n4pw9s31pm",
    "id": "o_uGPWJkAuCh"
   },
   "outputs": [],
   "source": [
    "#!g1.1\n",
    "\n",
    "#Это функция потерь для dkd (вроде)\n",
    "#https://towardsdatascience.com/distilling-knowledge-in-neural-network-d8991faa2cdc\n",
    "#Только там почему-то считается CE для дейблов студента, а не логитов\n",
    "def dkd_loss(\n",
    "    logits_student, #выходы модели студента\n",
    "    logits_teacher, #выходы учителя\n",
    "    y_true, #Это реальные лейблы (hard targets)\n",
    "    alpha=0.5, #Это параметр альфа,\n",
    "    T=1.5 #Это температура\n",
    "):\n",
    "    '''\n",
    "    probs_student = F.log_softmax(logits_student / T, dim=-1)\n",
    "    probs_teacher = F.log_softmax(logits_teacher / T, dim=-1)\n",
    "    \n",
    "    loss1 = F.cross_entropy(probs_student, probs_teacher) * alpha\n",
    "    \n",
    "    loss2 = F.cross_entropy(logits_student, labels) * (1 - alpha)\n",
    "    \n",
    "    return loss1 + loss2'''\n",
    "    \n",
    "    probs_student = F.log_softmax(logits_student / T, dim=-1)\n",
    "    probs_teacher = F.log_softmax(logits_teacher / T, dim=-1)\n",
    "    \n",
    "    loss1 = nn.KLDivLoss()(probs_student,probs_teacher) * alpha * (T ** 2)\n",
    "    \n",
    "    loss2 = F.cross_entropy(logits_student, y_true) * (1 - alpha)\n",
    "    \n",
    "    return loss1 + loss2\n",
    "    \n",
    "\n",
    "\n",
    "#код почти повторяет код с сменианра\n",
    "#Я добавила параметр config (мне понравилось, как в прошлом дз с ним работали) оттуда нам надо будет выцыганить config.alpha, config.T\n",
    "def dkd_train_epoch(student, teacher, opt, loader, log_melspec, device, config):\n",
    "    student.train()\n",
    "    teacher.eval()\n",
    "    for i, (batch, labels) in tqdm(enumerate(loader), total=len(loader)):\n",
    "        batch, labels = batch.to(device), labels.to(device)\n",
    "        batch = log_melspec(batch)\n",
    "\n",
    "        opt.zero_grad()\n",
    "        \n",
    "        # run model # with autocast():\n",
    "        logits_student = student(batch)\n",
    "        #Получили предсказания для учителя без градиента (так как обучаем не его)\n",
    "        with torch.no_grad():\n",
    "            logits_teacher = teacher(batch)\n",
    "        \n",
    "        # we need probabilities so we use softmax & CE separately\n",
    "        probs = F.softmax(logits_student, dim=-1)\n",
    "        loss = dkd_loss(logits_student,\n",
    "                        logits_teacher,\n",
    "                        labels,\n",
    "                        config.alpha,\n",
    "                        config.T)\n",
    "\n",
    "        loss.backward()\n",
    "        torch.nn.utils.clip_grad_norm_(student.parameters(), 5)\n",
    "\n",
    "        opt.step()\n",
    "\n",
    "        # logging\n",
    "        argmax_probs = torch.argmax(probs, dim=-1)\n",
    "        FA, FR = count_FA_FR(argmax_probs, labels)\n",
    "        acc = torch.sum(argmax_probs == labels) / torch.numel(argmax_probs)\n",
    "\n",
    "    return acc\n",
    "\n",
    "\n",
    "#код почти повторяет код с сменианра\n",
    "@torch.no_grad()\n",
    "def dkd_validation(student, teacher, loader, log_melspec, device, config):\n",
    "    \n",
    "    student.eval()\n",
    "    teacher.eval()\n",
    "\n",
    "    val_losses, accs, FAs, FRs = [], [], [], []\n",
    "    all_probs, all_labels = [], []\n",
    "    for i, (batch, labels) in tqdm(enumerate(loader)):\n",
    "        #TODO: заменить device на config.device\n",
    "        batch, labels = batch.to(device), labels.to(device)\n",
    "        batch = log_melspec(batch)\n",
    "\n",
    "        logits_student = student(batch)\n",
    "        logits_teacher = teacher(batch)\n",
    "        \n",
    "        # we need probabilities so we use softmax & CE separately\n",
    "        probs = F.softmax(logits_student, dim=-1)\n",
    "        loss = dkd_loss(logits_student,\n",
    "                        logits_teacher,\n",
    "                        labels,\n",
    "                        config.alpha,\n",
    "                        config.T)\n",
    "\n",
    "        # logging\n",
    "        argmax_probs = torch.argmax(probs, dim=-1)\n",
    "        all_probs.append(probs[:, 1].cpu())\n",
    "        all_labels.append(labels.cpu())\n",
    "        val_losses.append(loss.item())\n",
    "        accs.append(\n",
    "            torch.sum(argmax_probs == labels).item() /  # ???\n",
    "            torch.numel(argmax_probs)\n",
    "        )\n",
    "        FA, FR = count_FA_FR(argmax_probs, labels)\n",
    "        FAs.append(FA)\n",
    "        FRs.append(FR)\n",
    "\n",
    "    # area under FA/FR curve for whole loader\n",
    "    au_fa_fr = get_au_fa_fr(torch.cat(all_probs, dim=0).cpu(), all_labels)\n",
    "    return au_fa_fr\n",
    "\n",
    "\n",
    "def dkd_train(student, teacher, #Две модельки: ученик и учитель\n",
    "              train_loader, val_loader, #Два загрузчика: для трейна и валида\n",
    "              melspec_train, melspec_val, #melspec для трейна и валида\n",
    "              opt,   config, \n",
    "              #Эта штука для логгирования в wandb, вроде ее можно создавать и внутри функции, но я хз\n",
    "              wandb_run=None\n",
    "             ):\n",
    "    history = []\n",
    "    for n in range(config.num_epochs):\n",
    "\n",
    "        dkd_train_epoch(student, teacher, opt, train_loader, melspec_train, config.device, config)\n",
    "\n",
    "        au_fa_fr = dkd_validation(student, teacher, val_loader, melspec_val, config.device, config)\n",
    "        history.append(au_fa_fr)\n",
    "        if wandb_run is not None:\n",
    "            #Это из инструкции в wandb\n",
    "            wandb_run.log({'val_metric':au_fa_fr})\n",
    "        \n",
    "        if au_fa_fr < VERY_IMPORTANT_CONSTANT:\n",
    "          print('END OF EPOCH', n, '/', config.num_epochs, 'val metric', au_fa_fr)\n",
    "          print('Beat the baseline for student\\nSaving model')\n",
    "          torch.save(student.state_dict(), 'student_model.pt')\n",
    "          break\n",
    "\n",
    "      \n",
    "        \n",
    "\n",
    "        print('END OF EPOCH', n, '/', config.num_epochs, 'val metric', au_fa_fr)\n",
    "    return history"
   ]
  },
  {
   "cell_type": "code",
   "execution_count": null,
   "metadata": {
    "colab": {
     "base_uri": "https://localhost:8080/"
    },
    "id": "NuDH2HShKDVp",
    "outputId": "6c82a8a3-f9e5-4342-8912-866d11d870db"
   },
   "outputs": [
    {
     "name": "stderr",
     "output_type": "stream",
     "text": [
      "  0%|          | 0/405 [00:00<?, ?it/s]/usr/local/lib/python3.7/dist-packages/torch/nn/functional.py:2742: UserWarning: reduction: 'mean' divides the total loss by both the batch size and the support size.'batchmean' divides only by the batch size, and aligns with the KL div math definition.'mean' will be changed to behave the same as 'batchmean' in the next major release.\n",
      "  \"reduction: 'mean' divides the total loss by both the batch size and the support size.\"\n",
      "100%|██████████| 405/405 [02:08<00:00,  3.14it/s]\n",
      "102it [00:16,  6.27it/s]\n"
     ]
    },
    {
     "name": "stdout",
     "output_type": "stream",
     "text": [
      "END OF EPOCH 0 / 50 val metric 0.002236457806976988\n"
     ]
    },
    {
     "name": "stderr",
     "output_type": "stream",
     "text": [
      "100%|██████████| 405/405 [01:56<00:00,  3.48it/s]\n",
      "102it [00:15,  6.38it/s]\n"
     ]
    },
    {
     "name": "stdout",
     "output_type": "stream",
     "text": [
      "END OF EPOCH 1 / 50 val metric 0.0008466458130716443\n"
     ]
    },
    {
     "name": "stderr",
     "output_type": "stream",
     "text": [
      "100%|██████████| 405/405 [01:55<00:00,  3.51it/s]\n",
      "102it [00:15,  6.43it/s]\n"
     ]
    },
    {
     "name": "stdout",
     "output_type": "stream",
     "text": [
      "END OF EPOCH 2 / 50 val metric 0.0007054715399450478\n"
     ]
    },
    {
     "name": "stderr",
     "output_type": "stream",
     "text": [
      "100%|██████████| 405/405 [01:50<00:00,  3.66it/s]\n",
      "102it [00:15,  6.45it/s]\n"
     ]
    },
    {
     "name": "stdout",
     "output_type": "stream",
     "text": [
      "END OF EPOCH 3 / 50 val metric 0.0006475743933130049\n"
     ]
    },
    {
     "name": "stderr",
     "output_type": "stream",
     "text": [
      "100%|██████████| 405/405 [01:50<00:00,  3.65it/s]\n",
      "102it [00:17,  5.97it/s]\n"
     ]
    },
    {
     "name": "stdout",
     "output_type": "stream",
     "text": [
      "END OF EPOCH 4 / 50 val metric 0.00048233300079174443\n"
     ]
    },
    {
     "name": "stderr",
     "output_type": "stream",
     "text": [
      "100%|██████████| 405/405 [01:51<00:00,  3.64it/s]\n",
      "102it [00:15,  6.48it/s]\n"
     ]
    },
    {
     "name": "stdout",
     "output_type": "stream",
     "text": [
      "END OF EPOCH 5 / 50 val metric 0.0004360188640146587\n"
     ]
    },
    {
     "name": "stderr",
     "output_type": "stream",
     "text": [
      "100%|██████████| 405/405 [01:48<00:00,  3.72it/s]\n",
      "102it [00:15,  6.46it/s]\n"
     ]
    },
    {
     "name": "stdout",
     "output_type": "stream",
     "text": [
      "END OF EPOCH 6 / 50 val metric 0.0004463427213299993\n"
     ]
    },
    {
     "name": "stderr",
     "output_type": "stream",
     "text": [
      "100%|██████████| 405/405 [01:48<00:00,  3.73it/s]\n",
      "102it [00:15,  6.43it/s]\n"
     ]
    },
    {
     "name": "stdout",
     "output_type": "stream",
     "text": [
      "END OF EPOCH 7 / 50 val metric 0.00036664612338411866\n"
     ]
    },
    {
     "name": "stderr",
     "output_type": "stream",
     "text": [
      "100%|██████████| 405/405 [01:48<00:00,  3.75it/s]\n",
      "102it [00:15,  6.38it/s]\n"
     ]
    },
    {
     "name": "stdout",
     "output_type": "stream",
     "text": [
      "END OF EPOCH 8 / 50 val metric 0.00033257739424349475\n"
     ]
    },
    {
     "name": "stderr",
     "output_type": "stream",
     "text": [
      "100%|██████████| 405/405 [01:47<00:00,  3.78it/s]\n",
      "102it [00:15,  6.54it/s]\n"
     ]
    },
    {
     "name": "stdout",
     "output_type": "stream",
     "text": [
      "END OF EPOCH 9 / 50 val metric 0.00033615195524458664\n"
     ]
    },
    {
     "name": "stderr",
     "output_type": "stream",
     "text": [
      "100%|██████████| 405/405 [01:47<00:00,  3.77it/s]\n",
      "102it [00:15,  6.39it/s]\n"
     ]
    },
    {
     "name": "stdout",
     "output_type": "stream",
     "text": [
      "END OF EPOCH 10 / 50 val metric 0.0003162263138712212\n"
     ]
    },
    {
     "name": "stderr",
     "output_type": "stream",
     "text": [
      "100%|██████████| 405/405 [01:48<00:00,  3.75it/s]\n",
      "102it [00:15,  6.41it/s]\n"
     ]
    },
    {
     "name": "stdout",
     "output_type": "stream",
     "text": [
      "END OF EPOCH 11 / 50 val metric 0.00033887912448915926\n"
     ]
    },
    {
     "name": "stderr",
     "output_type": "stream",
     "text": [
      "100%|██████████| 405/405 [01:49<00:00,  3.71it/s]\n",
      "102it [00:16,  6.29it/s]\n"
     ]
    },
    {
     "name": "stdout",
     "output_type": "stream",
     "text": [
      "END OF EPOCH 12 / 50 val metric 0.00025535732854377964\n"
     ]
    },
    {
     "name": "stderr",
     "output_type": "stream",
     "text": [
      "100%|██████████| 405/405 [01:48<00:00,  3.74it/s]\n",
      "102it [00:15,  6.38it/s]\n"
     ]
    },
    {
     "name": "stdout",
     "output_type": "stream",
     "text": [
      "END OF EPOCH 13 / 50 val metric 0.00026890962910050705\n"
     ]
    },
    {
     "name": "stderr",
     "output_type": "stream",
     "text": [
      "100%|██████████| 405/405 [01:46<00:00,  3.80it/s]\n",
      "102it [00:15,  6.51it/s]\n"
     ]
    },
    {
     "name": "stdout",
     "output_type": "stream",
     "text": [
      "END OF EPOCH 14 / 50 val metric 0.00025407430581383847\n"
     ]
    },
    {
     "name": "stderr",
     "output_type": "stream",
     "text": [
      "100%|██████████| 405/405 [01:46<00:00,  3.79it/s]\n",
      "102it [00:16,  6.37it/s]\n"
     ]
    },
    {
     "name": "stdout",
     "output_type": "stream",
     "text": [
      "END OF EPOCH 15 / 50 val metric 0.0002443084141973328\n"
     ]
    },
    {
     "name": "stderr",
     "output_type": "stream",
     "text": [
      "100%|██████████| 405/405 [01:46<00:00,  3.80it/s]\n",
      "102it [00:15,  6.54it/s]\n"
     ]
    },
    {
     "name": "stdout",
     "output_type": "stream",
     "text": [
      "END OF EPOCH 16 / 50 val metric 0.00022700550998587033\n"
     ]
    },
    {
     "name": "stderr",
     "output_type": "stream",
     "text": [
      "100%|██████████| 405/405 [01:46<00:00,  3.79it/s]\n",
      "102it [00:15,  6.56it/s]\n"
     ]
    },
    {
     "name": "stdout",
     "output_type": "stream",
     "text": [
      "END OF EPOCH 17 / 50 val metric 0.00022312063651056013\n"
     ]
    },
    {
     "name": "stderr",
     "output_type": "stream",
     "text": [
      "100%|██████████| 405/405 [01:48<00:00,  3.74it/s]\n",
      "102it [00:15,  6.44it/s]\n"
     ]
    },
    {
     "name": "stdout",
     "output_type": "stream",
     "text": [
      "END OF EPOCH 18 / 50 val metric 0.00021875239168117898\n"
     ]
    },
    {
     "name": "stderr",
     "output_type": "stream",
     "text": [
      "100%|██████████| 405/405 [01:50<00:00,  3.68it/s]\n",
      "102it [00:16,  6.36it/s]\n"
     ]
    },
    {
     "name": "stdout",
     "output_type": "stream",
     "text": [
      "END OF EPOCH 19 / 50 val metric 0.00020346950232592628\n"
     ]
    },
    {
     "name": "stderr",
     "output_type": "stream",
     "text": [
      "100%|██████████| 405/405 [01:50<00:00,  3.67it/s]\n",
      "102it [00:15,  6.50it/s]\n"
     ]
    },
    {
     "name": "stdout",
     "output_type": "stream",
     "text": [
      "END OF EPOCH 20 / 50 val metric 0.00017662747330604076\n"
     ]
    },
    {
     "name": "stderr",
     "output_type": "stream",
     "text": [
      "100%|██████████| 405/405 [01:48<00:00,  3.75it/s]\n",
      "102it [00:15,  6.44it/s]\n"
     ]
    },
    {
     "name": "stdout",
     "output_type": "stream",
     "text": [
      "END OF EPOCH 21 / 50 val metric 0.00016906659052075954\n"
     ]
    },
    {
     "name": "stderr",
     "output_type": "stream",
     "text": [
      "100%|██████████| 405/405 [01:51<00:00,  3.65it/s]\n",
      "102it [00:16,  6.20it/s]\n"
     ]
    },
    {
     "name": "stdout",
     "output_type": "stream",
     "text": [
      "END OF EPOCH 22 / 50 val metric 0.00020060507948698784\n"
     ]
    },
    {
     "name": "stderr",
     "output_type": "stream",
     "text": [
      "100%|██████████| 405/405 [01:50<00:00,  3.67it/s]\n",
      "102it [00:16,  6.27it/s]\n"
     ]
    },
    {
     "name": "stdout",
     "output_type": "stream",
     "text": [
      "END OF EPOCH 23 / 50 val metric 0.0001601809121724693\n"
     ]
    },
    {
     "name": "stderr",
     "output_type": "stream",
     "text": [
      "100%|██████████| 405/405 [01:52<00:00,  3.59it/s]\n",
      "102it [00:16,  6.27it/s]\n"
     ]
    },
    {
     "name": "stdout",
     "output_type": "stream",
     "text": [
      "END OF EPOCH 24 / 50 val metric 0.00015463706046960722\n"
     ]
    },
    {
     "name": "stderr",
     "output_type": "stream",
     "text": [
      "100%|██████████| 405/405 [01:52<00:00,  3.59it/s]\n",
      "102it [00:16,  6.22it/s]\n"
     ]
    },
    {
     "name": "stdout",
     "output_type": "stream",
     "text": [
      "END OF EPOCH 25 / 50 val metric 0.00015787147125857518\n"
     ]
    },
    {
     "name": "stderr",
     "output_type": "stream",
     "text": [
      "100%|██████████| 405/405 [01:52<00:00,  3.61it/s]\n",
      "102it [00:16,  6.16it/s]\n"
     ]
    },
    {
     "name": "stdout",
     "output_type": "stream",
     "text": [
      "END OF EPOCH 26 / 50 val metric 0.00012847533187396957\n"
     ]
    },
    {
     "name": "stderr",
     "output_type": "stream",
     "text": [
      "100%|██████████| 405/405 [01:54<00:00,  3.53it/s]\n",
      "102it [00:16,  6.26it/s]\n"
     ]
    },
    {
     "name": "stdout",
     "output_type": "stream",
     "text": [
      "END OF EPOCH 27 / 50 val metric 0.00012614202076975098\n"
     ]
    },
    {
     "name": "stderr",
     "output_type": "stream",
     "text": [
      "100%|██████████| 405/405 [01:52<00:00,  3.59it/s]\n",
      "102it [00:16,  6.23it/s]\n"
     ]
    },
    {
     "name": "stdout",
     "output_type": "stream",
     "text": [
      "END OF EPOCH 28 / 50 val metric 0.00013198424985166914\n"
     ]
    },
    {
     "name": "stderr",
     "output_type": "stream",
     "text": [
      "100%|██████████| 405/405 [01:53<00:00,  3.57it/s]\n",
      "102it [00:16,  6.26it/s]\n"
     ]
    },
    {
     "name": "stdout",
     "output_type": "stream",
     "text": [
      "END OF EPOCH 29 / 50 val metric 0.00013220504911217067\n"
     ]
    },
    {
     "name": "stderr",
     "output_type": "stream",
     "text": [
      "100%|██████████| 405/405 [01:50<00:00,  3.65it/s]\n",
      "102it [00:15,  6.40it/s]\n"
     ]
    },
    {
     "name": "stdout",
     "output_type": "stream",
     "text": [
      "END OF EPOCH 30 / 50 val metric 0.0001165044314262394\n"
     ]
    },
    {
     "name": "stderr",
     "output_type": "stream",
     "text": [
      "100%|██████████| 405/405 [01:48<00:00,  3.75it/s]\n",
      "102it [00:16,  6.31it/s]\n"
     ]
    },
    {
     "name": "stdout",
     "output_type": "stream",
     "text": [
      "END OF EPOCH 31 / 50 val metric 0.0001126314930460914\n"
     ]
    },
    {
     "name": "stderr",
     "output_type": "stream",
     "text": [
      "100%|██████████| 405/405 [01:49<00:00,  3.71it/s]\n",
      "102it [00:15,  6.51it/s]\n"
     ]
    },
    {
     "name": "stdout",
     "output_type": "stream",
     "text": [
      "END OF EPOCH 32 / 50 val metric 0.00011181990657505885\n"
     ]
    },
    {
     "name": "stderr",
     "output_type": "stream",
     "text": [
      "100%|██████████| 405/405 [01:49<00:00,  3.68it/s]\n",
      "102it [00:16,  6.27it/s]\n"
     ]
    },
    {
     "name": "stdout",
     "output_type": "stream",
     "text": [
      "END OF EPOCH 33 / 50 val metric 0.00012247197900736113\n"
     ]
    },
    {
     "name": "stderr",
     "output_type": "stream",
     "text": [
      "100%|██████████| 405/405 [01:49<00:00,  3.70it/s]\n",
      "102it [00:15,  6.45it/s]\n"
     ]
    },
    {
     "name": "stdout",
     "output_type": "stream",
     "text": [
      "END OF EPOCH 34 / 50 val metric 0.00011964932900149054\n"
     ]
    },
    {
     "name": "stderr",
     "output_type": "stream",
     "text": [
      "100%|██████████| 405/405 [01:47<00:00,  3.77it/s]\n",
      "102it [00:15,  6.46it/s]\n"
     ]
    },
    {
     "name": "stdout",
     "output_type": "stream",
     "text": [
      "END OF EPOCH 35 / 50 val metric 0.00011448740034382027\n"
     ]
    },
    {
     "name": "stderr",
     "output_type": "stream",
     "text": [
      "100%|██████████| 405/405 [01:48<00:00,  3.74it/s]\n",
      "102it [00:15,  6.40it/s]\n"
     ]
    },
    {
     "name": "stdout",
     "output_type": "stream",
     "text": [
      "END OF EPOCH 36 / 50 val metric 0.0001091703154490408\n"
     ]
    },
    {
     "name": "stderr",
     "output_type": "stream",
     "text": [
      "100%|██████████| 405/405 [01:47<00:00,  3.76it/s]\n",
      "102it [00:15,  6.46it/s]\n"
     ]
    },
    {
     "name": "stdout",
     "output_type": "stream",
     "text": [
      "END OF EPOCH 37 / 50 val metric 0.00010166910813957079\n"
     ]
    },
    {
     "name": "stderr",
     "output_type": "stream",
     "text": [
      "100%|██████████| 405/405 [01:47<00:00,  3.75it/s]\n",
      "102it [00:15,  6.50it/s]\n"
     ]
    },
    {
     "name": "stdout",
     "output_type": "stream",
     "text": [
      "END OF EPOCH 38 / 50 val metric 0.00010721295984243287\n"
     ]
    },
    {
     "name": "stderr",
     "output_type": "stream",
     "text": [
      "100%|██████████| 405/405 [01:45<00:00,  3.83it/s]\n",
      "102it [00:15,  6.65it/s]\n"
     ]
    },
    {
     "name": "stdout",
     "output_type": "stream",
     "text": [
      "END OF EPOCH 39 / 50 val metric 0.00010831098859735927\n"
     ]
    },
    {
     "name": "stderr",
     "output_type": "stream",
     "text": [
      "100%|██████████| 405/405 [01:46<00:00,  3.79it/s]\n",
      "102it [00:15,  6.55it/s]\n"
     ]
    },
    {
     "name": "stdout",
     "output_type": "stream",
     "text": [
      "END OF EPOCH 40 / 50 val metric 9.906725739420172e-05\n"
     ]
    },
    {
     "name": "stderr",
     "output_type": "stream",
     "text": [
      "100%|██████████| 405/405 [01:46<00:00,  3.81it/s]\n",
      "102it [00:15,  6.45it/s]\n"
     ]
    },
    {
     "name": "stdout",
     "output_type": "stream",
     "text": [
      "END OF EPOCH 41 / 50 val metric 9.981916838942305e-05\n"
     ]
    },
    {
     "name": "stderr",
     "output_type": "stream",
     "text": [
      "100%|██████████| 405/405 [01:46<00:00,  3.80it/s]\n",
      "102it [00:15,  6.59it/s]\n"
     ]
    },
    {
     "name": "stdout",
     "output_type": "stream",
     "text": [
      "END OF EPOCH 42 / 50 val metric 9.533157260841951e-05\n"
     ]
    },
    {
     "name": "stderr",
     "output_type": "stream",
     "text": [
      "100%|██████████| 405/405 [01:45<00:00,  3.83it/s]\n",
      "102it [00:15,  6.63it/s]\n"
     ]
    },
    {
     "name": "stdout",
     "output_type": "stream",
     "text": [
      "END OF EPOCH 43 / 50 val metric 9.411419290187069e-05\n"
     ]
    },
    {
     "name": "stderr",
     "output_type": "stream",
     "text": [
      "100%|██████████| 405/405 [01:46<00:00,  3.81it/s]\n",
      "102it [00:15,  6.44it/s]\n"
     ]
    },
    {
     "name": "stdout",
     "output_type": "stream",
     "text": [
      "END OF EPOCH 44 / 50 val metric 0.00010024883181526382\n"
     ]
    },
    {
     "name": "stderr",
     "output_type": "stream",
     "text": [
      "100%|██████████| 405/405 [01:49<00:00,  3.69it/s]\n",
      "102it [00:15,  6.42it/s]\n"
     ]
    },
    {
     "name": "stdout",
     "output_type": "stream",
     "text": [
      "END OF EPOCH 45 / 50 val metric 9.59342949141128e-05\n"
     ]
    },
    {
     "name": "stderr",
     "output_type": "stream",
     "text": [
      "100%|██████████| 405/405 [01:47<00:00,  3.75it/s]\n",
      "102it [00:15,  6.51it/s]\n"
     ]
    },
    {
     "name": "stdout",
     "output_type": "stream",
     "text": [
      "END OF EPOCH 46 / 50 val metric 8.231635133399304e-05\n"
     ]
    },
    {
     "name": "stderr",
     "output_type": "stream",
     "text": [
      "100%|██████████| 405/405 [01:47<00:00,  3.77it/s]\n",
      "102it [00:15,  6.52it/s]\n"
     ]
    },
    {
     "name": "stdout",
     "output_type": "stream",
     "text": [
      "END OF EPOCH 47 / 50 val metric 0.00010614476882541209\n"
     ]
    },
    {
     "name": "stderr",
     "output_type": "stream",
     "text": [
      "100%|██████████| 405/405 [01:48<00:00,  3.73it/s]\n",
      "102it [00:15,  6.41it/s]\n"
     ]
    },
    {
     "name": "stdout",
     "output_type": "stream",
     "text": [
      "END OF EPOCH 48 / 50 val metric 9.825567092316915e-05\n"
     ]
    },
    {
     "name": "stderr",
     "output_type": "stream",
     "text": [
      "100%|██████████| 405/405 [01:49<00:00,  3.72it/s]\n",
      "102it [00:15,  6.51it/s]\n"
     ]
    },
    {
     "name": "stdout",
     "output_type": "stream",
     "text": [
      "END OF EPOCH 49 / 50 val metric 8.476304584225296e-05\n"
     ]
    }
   ],
   "source": [
    "student = student.to(sconfig.device)\n",
    "teacher = teacher.to(sconfig.device)\n",
    "history = dkd_train(student, teacher, #Две модельки: ученик и учитель\n",
    "              train_loader, val_loader, #Два загрузчика: для трейна и валида\n",
    "              melspec_train, melspec_val, #melspec для трейна и валида\n",
    "              sopt,   sconfig\n",
    "             )"
   ]
  },
  {
   "cell_type": "code",
   "execution_count": null,
   "metadata": {
    "colab": {
     "base_uri": "https://localhost:8080/"
    },
    "id": "1T8qurh9CYVO",
    "outputId": "fee1ff8c-2aa4-413d-a6be-250c93d37d16"
   },
   "outputs": [
    {
     "name": "stderr",
     "output_type": "stream",
     "text": [
      "  0%|          | 0/405 [00:00<?, ?it/s]/usr/local/lib/python3.7/dist-packages/torch/nn/functional.py:2742: UserWarning: reduction: 'mean' divides the total loss by both the batch size and the support size.'batchmean' divides only by the batch size, and aligns with the KL div math definition.'mean' will be changed to behave the same as 'batchmean' in the next major release.\n",
      "  \"reduction: 'mean' divides the total loss by both the batch size and the support size.\"\n",
      "100%|██████████| 405/405 [01:47<00:00,  3.75it/s]\n",
      "102it [00:15,  6.51it/s]\n"
     ]
    },
    {
     "name": "stdout",
     "output_type": "stream",
     "text": [
      "END OF EPOCH 0 / 50 val metric 9.535544279874401e-05\n"
     ]
    },
    {
     "name": "stderr",
     "output_type": "stream",
     "text": [
      "100%|██████████| 405/405 [01:48<00:00,  3.72it/s]\n",
      "102it [00:15,  6.54it/s]\n"
     ]
    },
    {
     "name": "stdout",
     "output_type": "stream",
     "text": [
      "END OF EPOCH 1 / 50 val metric 0.00010108428847662087\n"
     ]
    },
    {
     "name": "stderr",
     "output_type": "stream",
     "text": [
      "100%|██████████| 405/405 [01:48<00:00,  3.73it/s]\n",
      "102it [00:15,  6.57it/s]\n"
     ]
    },
    {
     "name": "stdout",
     "output_type": "stream",
     "text": [
      "END OF EPOCH 2 / 50 val metric 7.804358726590989e-05\n"
     ]
    },
    {
     "name": "stderr",
     "output_type": "stream",
     "text": [
      "100%|██████████| 405/405 [01:47<00:00,  3.78it/s]\n",
      "102it [00:15,  6.65it/s]\n"
     ]
    },
    {
     "name": "stdout",
     "output_type": "stream",
     "text": [
      "END OF EPOCH 3 / 50 val metric 8.146895957747375e-05\n"
     ]
    },
    {
     "name": "stderr",
     "output_type": "stream",
     "text": [
      "100%|██████████| 405/405 [01:45<00:00,  3.83it/s]\n",
      "102it [00:15,  6.57it/s]\n"
     ]
    },
    {
     "name": "stdout",
     "output_type": "stream",
     "text": [
      "END OF EPOCH 4 / 50 val metric 9.553446922617767e-05\n"
     ]
    },
    {
     "name": "stderr",
     "output_type": "stream",
     "text": [
      "100%|██████████| 405/405 [01:47<00:00,  3.75it/s]\n",
      "102it [00:16,  6.16it/s]\n"
     ]
    },
    {
     "name": "stdout",
     "output_type": "stream",
     "text": [
      "END OF EPOCH 5 / 50 val metric 9.192410293959902e-05\n"
     ]
    },
    {
     "name": "stderr",
     "output_type": "stream",
     "text": [
      "100%|██████████| 405/405 [01:49<00:00,  3.70it/s]\n",
      "102it [00:15,  6.54it/s]\n"
     ]
    },
    {
     "name": "stdout",
     "output_type": "stream",
     "text": [
      "END OF EPOCH 6 / 50 val metric 7.411694095753179e-05\n"
     ]
    },
    {
     "name": "stderr",
     "output_type": "stream",
     "text": [
      "100%|██████████| 405/405 [01:48<00:00,  3.72it/s]\n",
      "102it [00:16,  6.35it/s]\n"
     ]
    },
    {
     "name": "stdout",
     "output_type": "stream",
     "text": [
      "END OF EPOCH 7 / 50 val metric 7.759005364974465e-05\n"
     ]
    },
    {
     "name": "stderr",
     "output_type": "stream",
     "text": [
      "100%|██████████| 405/405 [01:48<00:00,  3.73it/s]\n",
      "102it [00:15,  6.64it/s]\n"
     ]
    },
    {
     "name": "stdout",
     "output_type": "stream",
     "text": [
      "END OF EPOCH 8 / 50 val metric 9.049189152012981e-05\n"
     ]
    },
    {
     "name": "stderr",
     "output_type": "stream",
     "text": [
      "100%|██████████| 405/405 [01:45<00:00,  3.83it/s]\n",
      "102it [00:15,  6.56it/s]\n"
     ]
    },
    {
     "name": "stdout",
     "output_type": "stream",
     "text": [
      "END OF EPOCH 9 / 50 val metric 8.710232449405266e-05\n"
     ]
    },
    {
     "name": "stderr",
     "output_type": "stream",
     "text": [
      "100%|██████████| 405/405 [01:47<00:00,  3.75it/s]\n",
      "102it [00:15,  6.53it/s]\n"
     ]
    },
    {
     "name": "stdout",
     "output_type": "stream",
     "text": [
      "END OF EPOCH 10 / 50 val metric 0.00010677136132142987\n"
     ]
    },
    {
     "name": "stderr",
     "output_type": "stream",
     "text": [
      "100%|██████████| 405/405 [01:46<00:00,  3.80it/s]\n",
      "102it [00:15,  6.50it/s]\n"
     ]
    },
    {
     "name": "stdout",
     "output_type": "stream",
     "text": [
      "END OF EPOCH 11 / 50 val metric 9.568365791570569e-05\n"
     ]
    },
    {
     "name": "stderr",
     "output_type": "stream",
     "text": [
      "100%|██████████| 405/405 [01:47<00:00,  3.78it/s]\n",
      "102it [00:15,  6.54it/s]\n"
     ]
    },
    {
     "name": "stdout",
     "output_type": "stream",
     "text": [
      "END OF EPOCH 12 / 50 val metric 8.430652845229716e-05\n"
     ]
    },
    {
     "name": "stderr",
     "output_type": "stream",
     "text": [
      "100%|██████████| 405/405 [01:46<00:00,  3.81it/s]\n",
      "102it [00:15,  6.47it/s]\n"
     ]
    },
    {
     "name": "stdout",
     "output_type": "stream",
     "text": [
      "END OF EPOCH 13 / 50 val metric 9.8345184136886e-05\n"
     ]
    },
    {
     "name": "stderr",
     "output_type": "stream",
     "text": [
      "100%|██████████| 405/405 [01:46<00:00,  3.81it/s]\n",
      "102it [00:15,  6.62it/s]\n"
     ]
    },
    {
     "name": "stdout",
     "output_type": "stream",
     "text": [
      "END OF EPOCH 14 / 50 val metric 9.820196299493907e-05\n"
     ]
    },
    {
     "name": "stderr",
     "output_type": "stream",
     "text": [
      "100%|██████████| 405/405 [01:45<00:00,  3.84it/s]\n",
      "102it [00:15,  6.45it/s]\n"
     ]
    },
    {
     "name": "stdout",
     "output_type": "stream",
     "text": [
      "END OF EPOCH 15 / 50 val metric 9.528383222777055e-05\n"
     ]
    },
    {
     "name": "stderr",
     "output_type": "stream",
     "text": [
      "100%|██████████| 405/405 [01:45<00:00,  3.85it/s]\n",
      "102it [00:15,  6.64it/s]\n"
     ]
    },
    {
     "name": "stdout",
     "output_type": "stream",
     "text": [
      "END OF EPOCH 16 / 50 val metric 8.609380895284308e-05\n"
     ]
    },
    {
     "name": "stderr",
     "output_type": "stream",
     "text": [
      "100%|██████████| 405/405 [01:46<00:00,  3.80it/s]\n",
      "102it [00:15,  6.43it/s]\n"
     ]
    },
    {
     "name": "stdout",
     "output_type": "stream",
     "text": [
      "END OF EPOCH 17 / 50 val metric 8.265650154611698e-05\n"
     ]
    },
    {
     "name": "stderr",
     "output_type": "stream",
     "text": [
      "100%|██████████| 405/405 [01:49<00:00,  3.71it/s]\n",
      "102it [00:15,  6.49it/s]\n"
     ]
    },
    {
     "name": "stdout",
     "output_type": "stream",
     "text": [
      "END OF EPOCH 18 / 50 val metric 0.0001094448226377724\n"
     ]
    },
    {
     "name": "stderr",
     "output_type": "stream",
     "text": [
      "100%|██████████| 405/405 [01:47<00:00,  3.76it/s]\n",
      "102it [00:15,  6.54it/s]\n"
     ]
    },
    {
     "name": "stdout",
     "output_type": "stream",
     "text": [
      "END OF EPOCH 19 / 50 val metric 9.198377841541022e-05\n"
     ]
    },
    {
     "name": "stderr",
     "output_type": "stream",
     "text": [
      "100%|██████████| 405/405 [01:48<00:00,  3.72it/s]\n",
      "102it [00:15,  6.40it/s]\n"
     ]
    },
    {
     "name": "stdout",
     "output_type": "stream",
     "text": [
      "END OF EPOCH 20 / 50 val metric 8.762150113361026e-05\n"
     ]
    },
    {
     "name": "stderr",
     "output_type": "stream",
     "text": [
      "100%|██████████| 405/405 [01:48<00:00,  3.75it/s]\n",
      "102it [00:15,  6.51it/s]\n"
     ]
    },
    {
     "name": "stdout",
     "output_type": "stream",
     "text": [
      "END OF EPOCH 21 / 50 val metric 9.132138063390573e-05\n"
     ]
    },
    {
     "name": "stderr",
     "output_type": "stream",
     "text": [
      "100%|██████████| 405/405 [01:48<00:00,  3.72it/s]\n",
      "102it [00:16,  6.37it/s]\n"
     ]
    },
    {
     "name": "stdout",
     "output_type": "stream",
     "text": [
      "END OF EPOCH 22 / 50 val metric 0.00010968352454101726\n"
     ]
    },
    {
     "name": "stderr",
     "output_type": "stream",
     "text": [
      "100%|██████████| 405/405 [01:48<00:00,  3.74it/s]\n",
      "102it [00:15,  6.58it/s]\n"
     ]
    },
    {
     "name": "stdout",
     "output_type": "stream",
     "text": [
      "END OF EPOCH 23 / 50 val metric 9.680555686095658e-05\n"
     ]
    },
    {
     "name": "stderr",
     "output_type": "stream",
     "text": [
      "100%|██████████| 405/405 [01:47<00:00,  3.76it/s]\n",
      "102it [00:15,  6.52it/s]\n"
     ]
    },
    {
     "name": "stdout",
     "output_type": "stream",
     "text": [
      "END OF EPOCH 24 / 50 val metric 7.597284825526065e-05\n"
     ]
    },
    {
     "name": "stderr",
     "output_type": "stream",
     "text": [
      "100%|██████████| 405/405 [01:48<00:00,  3.72it/s]\n",
      "102it [00:16,  6.35it/s]\n"
     ]
    },
    {
     "name": "stdout",
     "output_type": "stream",
     "text": [
      "END OF EPOCH 25 / 50 val metric 0.00010470062231078062\n"
     ]
    },
    {
     "name": "stderr",
     "output_type": "stream",
     "text": [
      "100%|██████████| 405/405 [01:48<00:00,  3.75it/s]\n",
      "102it [00:15,  6.51it/s]\n"
     ]
    },
    {
     "name": "stdout",
     "output_type": "stream",
     "text": [
      "END OF EPOCH 26 / 50 val metric 8.272811211709044e-05\n"
     ]
    },
    {
     "name": "stderr",
     "output_type": "stream",
     "text": [
      "100%|██████████| 405/405 [01:50<00:00,  3.66it/s]\n",
      "102it [00:15,  6.39it/s]\n"
     ]
    },
    {
     "name": "stdout",
     "output_type": "stream",
     "text": [
      "END OF EPOCH 27 / 50 val metric 9.57672035818414e-05\n"
     ]
    },
    {
     "name": "stderr",
     "output_type": "stream",
     "text": [
      "100%|██████████| 405/405 [01:49<00:00,  3.68it/s]\n",
      "102it [00:15,  6.46it/s]\n"
     ]
    },
    {
     "name": "stdout",
     "output_type": "stream",
     "text": [
      "END OF EPOCH 28 / 50 val metric 8.542544362375747e-05\n"
     ]
    },
    {
     "name": "stderr",
     "output_type": "stream",
     "text": [
      "100%|██████████| 405/405 [01:53<00:00,  3.56it/s]\n",
      "102it [00:16,  6.19it/s]\n"
     ]
    },
    {
     "name": "stdout",
     "output_type": "stream",
     "text": [
      "END OF EPOCH 29 / 50 val metric 7.379469338815122e-05\n"
     ]
    },
    {
     "name": "stderr",
     "output_type": "stream",
     "text": [
      "100%|██████████| 405/405 [01:49<00:00,  3.69it/s]\n",
      "102it [00:16,  6.26it/s]\n"
     ]
    },
    {
     "name": "stdout",
     "output_type": "stream",
     "text": [
      "END OF EPOCH 30 / 50 val metric 8.851066572319738e-05\n"
     ]
    },
    {
     "name": "stderr",
     "output_type": "stream",
     "text": [
      "100%|██████████| 405/405 [01:51<00:00,  3.65it/s]\n",
      "102it [00:16,  6.34it/s]\n"
     ]
    },
    {
     "name": "stdout",
     "output_type": "stream",
     "text": [
      "END OF EPOCH 31 / 50 val metric 8.262666380821138e-05\n"
     ]
    },
    {
     "name": "stderr",
     "output_type": "stream",
     "text": [
      "100%|██████████| 405/405 [01:49<00:00,  3.69it/s]\n",
      "102it [00:15,  6.49it/s]\n"
     ]
    },
    {
     "name": "stdout",
     "output_type": "stream",
     "text": [
      "END OF EPOCH 32 / 50 val metric 7.88671088321047e-05\n"
     ]
    },
    {
     "name": "stderr",
     "output_type": "stream",
     "text": [
      "100%|██████████| 405/405 [01:50<00:00,  3.66it/s]\n",
      "102it [00:16,  6.26it/s]\n"
     ]
    },
    {
     "name": "stdout",
     "output_type": "stream",
     "text": [
      "END OF EPOCH 33 / 50 val metric 8.399323220428823e-05\n"
     ]
    },
    {
     "name": "stderr",
     "output_type": "stream",
     "text": [
      "100%|██████████| 405/405 [01:49<00:00,  3.70it/s]\n",
      "102it [00:15,  6.55it/s]\n"
     ]
    },
    {
     "name": "stdout",
     "output_type": "stream",
     "text": [
      "END OF EPOCH 34 / 50 val metric 5.8422290819181675e-05\n"
     ]
    },
    {
     "name": "stderr",
     "output_type": "stream",
     "text": [
      "100%|██████████| 405/405 [01:49<00:00,  3.69it/s]\n",
      "102it [00:15,  6.48it/s]\n"
     ]
    },
    {
     "name": "stdout",
     "output_type": "stream",
     "text": [
      "END OF EPOCH 35 / 50 val metric 7.090043281130718e-05\n"
     ]
    },
    {
     "name": "stderr",
     "output_type": "stream",
     "text": [
      "100%|██████████| 405/405 [01:50<00:00,  3.67it/s]\n",
      "102it [00:15,  6.53it/s]\n"
     ]
    },
    {
     "name": "stdout",
     "output_type": "stream",
     "text": [
      "END OF EPOCH 36 / 50 val metric 7.979804625475969e-05\n"
     ]
    },
    {
     "name": "stderr",
     "output_type": "stream",
     "text": [
      "100%|██████████| 405/405 [01:49<00:00,  3.70it/s]\n",
      "102it [00:15,  6.54it/s]\n"
     ]
    },
    {
     "name": "stdout",
     "output_type": "stream",
     "text": [
      "END OF EPOCH 37 / 50 val metric 6.597123850930064e-05\n"
     ]
    },
    {
     "name": "stderr",
     "output_type": "stream",
     "text": [
      "100%|██████████| 405/405 [01:49<00:00,  3.70it/s]\n",
      "102it [00:15,  6.44it/s]\n"
     ]
    },
    {
     "name": "stdout",
     "output_type": "stream",
     "text": [
      "END OF EPOCH 38 / 50 val metric 6.458079992289928e-05\n"
     ]
    },
    {
     "name": "stderr",
     "output_type": "stream",
     "text": [
      "100%|██████████| 405/405 [01:48<00:00,  3.72it/s]\n",
      "102it [00:15,  6.60it/s]\n"
     ]
    },
    {
     "name": "stdout",
     "output_type": "stream",
     "text": [
      "END OF EPOCH 39 / 50 val metric 7.259521632434576e-05\n"
     ]
    },
    {
     "name": "stderr",
     "output_type": "stream",
     "text": [
      "100%|██████████| 405/405 [01:47<00:00,  3.76it/s]\n",
      "102it [00:15,  6.51it/s]\n"
     ]
    },
    {
     "name": "stdout",
     "output_type": "stream",
     "text": [
      "END OF EPOCH 40 / 50 val metric 8.078269160564476e-05\n"
     ]
    },
    {
     "name": "stderr",
     "output_type": "stream",
     "text": [
      "100%|██████████| 405/405 [01:47<00:00,  3.76it/s]\n",
      "102it [00:15,  6.65it/s]\n"
     ]
    },
    {
     "name": "stdout",
     "output_type": "stream",
     "text": [
      "END OF EPOCH 41 / 50 val metric 6.480159918340079e-05\n"
     ]
    },
    {
     "name": "stderr",
     "output_type": "stream",
     "text": [
      "100%|██████████| 405/405 [01:47<00:00,  3.77it/s]\n",
      "102it [00:15,  6.58it/s]\n"
     ]
    },
    {
     "name": "stdout",
     "output_type": "stream",
     "text": [
      "END OF EPOCH 42 / 50 val metric 6.62875185311001e-05\n"
     ]
    },
    {
     "name": "stderr",
     "output_type": "stream",
     "text": [
      "100%|██████████| 405/405 [01:48<00:00,  3.73it/s]\n",
      "102it [00:15,  6.54it/s]\n"
     ]
    },
    {
     "name": "stdout",
     "output_type": "stream",
     "text": [
      "END OF EPOCH 43 / 50 val metric 6.297552962357755e-05\n"
     ]
    },
    {
     "name": "stderr",
     "output_type": "stream",
     "text": [
      "100%|██████████| 405/405 [01:47<00:00,  3.77it/s]\n",
      "102it [00:15,  6.57it/s]\n"
     ]
    },
    {
     "name": "stdout",
     "output_type": "stream",
     "text": [
      "END OF EPOCH 44 / 50 val metric 6.481950182614416e-05\n"
     ]
    },
    {
     "name": "stderr",
     "output_type": "stream",
     "text": [
      "100%|██████████| 405/405 [01:48<00:00,  3.72it/s]\n",
      "102it [00:15,  6.49it/s]\n"
     ]
    },
    {
     "name": "stdout",
     "output_type": "stream",
     "text": [
      "END OF EPOCH 45 / 50 val metric 8.713812977953939e-05\n"
     ]
    },
    {
     "name": "stderr",
     "output_type": "stream",
     "text": [
      "100%|██████████| 405/405 [01:48<00:00,  3.74it/s]\n",
      "102it [00:15,  6.51it/s]\n"
     ]
    },
    {
     "name": "stdout",
     "output_type": "stream",
     "text": [
      "END OF EPOCH 46 / 50 val metric 7.748263779328444e-05\n"
     ]
    },
    {
     "name": "stderr",
     "output_type": "stream",
     "text": [
      "100%|██████████| 405/405 [01:48<00:00,  3.75it/s]\n",
      "102it [00:15,  6.46it/s]\n"
     ]
    },
    {
     "name": "stdout",
     "output_type": "stream",
     "text": [
      "END OF EPOCH 47 / 50 val metric 7.652186263272385e-05\n"
     ]
    },
    {
     "name": "stderr",
     "output_type": "stream",
     "text": [
      "100%|██████████| 405/405 [01:49<00:00,  3.71it/s]\n",
      "102it [00:15,  6.54it/s]\n"
     ]
    },
    {
     "name": "stdout",
     "output_type": "stream",
     "text": [
      "END OF EPOCH 48 / 50 val metric 5.942782258660068e-05\n"
     ]
    },
    {
     "name": "stderr",
     "output_type": "stream",
     "text": [
      "100%|██████████| 405/405 [01:48<00:00,  3.74it/s]\n",
      "102it [00:15,  6.55it/s]\n"
     ]
    },
    {
     "name": "stdout",
     "output_type": "stream",
     "text": [
      "END OF EPOCH 49 / 50 val metric 6.450918935192584e-05\n"
     ]
    }
   ],
   "source": [
    "history0 = dkd_train(student, teacher, #Две модельки: ученик и учитель\n",
    "              train_loader, val_loader, #Два загрузчика: для трейна и валида\n",
    "              melspec_train, melspec_val, #melspec для трейна и валида\n",
    "              sopt,   sconfig\n",
    "             )"
   ]
  },
  {
   "cell_type": "code",
   "execution_count": null,
   "metadata": {
    "colab": {
     "base_uri": "https://localhost:8080/"
    },
    "id": "1anc5VCycUrH",
    "outputId": "8648a377-abec-4493-898a-f8c22599319f"
   },
   "outputs": [
    {
     "name": "stderr",
     "output_type": "stream",
     "text": [
      "  0%|          | 0/405 [00:00<?, ?it/s]/usr/local/lib/python3.7/dist-packages/torch/nn/functional.py:2742: UserWarning: reduction: 'mean' divides the total loss by both the batch size and the support size.'batchmean' divides only by the batch size, and aligns with the KL div math definition.'mean' will be changed to behave the same as 'batchmean' in the next major release.\n",
      "  \"reduction: 'mean' divides the total loss by both the batch size and the support size.\"\n",
      "100%|██████████| 405/405 [01:49<00:00,  3.71it/s]\n",
      "102it [00:15,  6.50it/s]\n"
     ]
    },
    {
     "name": "stdout",
     "output_type": "stream",
     "text": [
      "END OF EPOCH 0 / 50 val metric 8.608187385768086e-05\n"
     ]
    },
    {
     "name": "stderr",
     "output_type": "stream",
     "text": [
      "100%|██████████| 405/405 [01:47<00:00,  3.76it/s]\n",
      "102it [00:15,  6.54it/s]\n"
     ]
    },
    {
     "name": "stdout",
     "output_type": "stream",
     "text": [
      "END OF EPOCH 1 / 50 val metric 5.756893151508126e-05\n"
     ]
    },
    {
     "name": "stderr",
     "output_type": "stream",
     "text": [
      "100%|██████████| 405/405 [01:47<00:00,  3.75it/s]\n",
      "102it [00:15,  6.46it/s]\n"
     ]
    },
    {
     "name": "stdout",
     "output_type": "stream",
     "text": [
      "END OF EPOCH 2 / 50 val metric 7.871792014257665e-05\n"
     ]
    },
    {
     "name": "stderr",
     "output_type": "stream",
     "text": [
      "100%|██████████| 405/405 [01:48<00:00,  3.75it/s]\n",
      "102it [00:15,  6.46it/s]\n"
     ]
    },
    {
     "name": "stdout",
     "output_type": "stream",
     "text": [
      "END OF EPOCH 3 / 50 val metric 7.723796834245846e-05\n"
     ]
    },
    {
     "name": "stderr",
     "output_type": "stream",
     "text": [
      "100%|██████████| 405/405 [01:48<00:00,  3.73it/s]\n",
      "102it [00:15,  6.44it/s]\n"
     ]
    },
    {
     "name": "stdout",
     "output_type": "stream",
     "text": [
      "END OF EPOCH 4 / 50 val metric 6.045125699676306e-05\n"
     ]
    },
    {
     "name": "stderr",
     "output_type": "stream",
     "text": [
      "100%|██████████| 405/405 [01:48<00:00,  3.73it/s]\n",
      "102it [00:15,  6.47it/s]\n"
     ]
    },
    {
     "name": "stdout",
     "output_type": "stream",
     "text": [
      "END OF EPOCH 5 / 50 val metric 9.589550585483552e-05\n"
     ]
    },
    {
     "name": "stderr",
     "output_type": "stream",
     "text": [
      "100%|██████████| 405/405 [01:49<00:00,  3.70it/s]\n",
      "102it [00:15,  6.54it/s]\n"
     ]
    },
    {
     "name": "stdout",
     "output_type": "stream",
     "text": [
      "END OF EPOCH 6 / 50 val metric 6.494482032534771e-05\n"
     ]
    },
    {
     "name": "stderr",
     "output_type": "stream",
     "text": [
      "100%|██████████| 405/405 [01:48<00:00,  3.73it/s]\n",
      "102it [00:15,  6.48it/s]\n"
     ]
    },
    {
     "name": "stdout",
     "output_type": "stream",
     "text": [
      "END OF EPOCH 7 / 50 val metric 6.097640118390176e-05\n"
     ]
    },
    {
     "name": "stderr",
     "output_type": "stream",
     "text": [
      "100%|██████████| 405/405 [01:49<00:00,  3.71it/s]\n",
      "102it [00:15,  6.46it/s]\n"
     ]
    },
    {
     "name": "stdout",
     "output_type": "stream",
     "text": [
      "END OF EPOCH 8 / 50 val metric 5.8219394201423524e-05\n"
     ]
    },
    {
     "name": "stderr",
     "output_type": "stream",
     "text": [
      "100%|██████████| 405/405 [01:50<00:00,  3.65it/s]\n",
      "102it [00:15,  6.47it/s]\n"
     ]
    },
    {
     "name": "stdout",
     "output_type": "stream",
     "text": [
      "END OF EPOCH 9 / 50 val metric 6.549980225039203e-05\n"
     ]
    },
    {
     "name": "stderr",
     "output_type": "stream",
     "text": [
      "100%|██████████| 405/405 [01:48<00:00,  3.72it/s]\n",
      "102it [00:15,  6.51it/s]\n"
     ]
    },
    {
     "name": "stdout",
     "output_type": "stream",
     "text": [
      "END OF EPOCH 10 / 50 val metric 5.8625187436939805e-05\n"
     ]
    },
    {
     "name": "stderr",
     "output_type": "stream",
     "text": [
      "100%|██████████| 405/405 [01:47<00:00,  3.76it/s]\n",
      "102it [00:15,  6.42it/s]\n"
     ]
    },
    {
     "name": "stdout",
     "output_type": "stream",
     "text": [
      "END OF EPOCH 11 / 50 val metric 9.316535283647234e-05\n"
     ]
    },
    {
     "name": "stderr",
     "output_type": "stream",
     "text": [
      "100%|██████████| 405/405 [01:48<00:00,  3.72it/s]\n",
      "102it [00:15,  6.53it/s]\n"
     ]
    },
    {
     "name": "stdout",
     "output_type": "stream",
     "text": [
      "END OF EPOCH 12 / 50 val metric 7.368727753169103e-05\n"
     ]
    },
    {
     "name": "stderr",
     "output_type": "stream",
     "text": [
      "100%|██████████| 405/405 [01:49<00:00,  3.71it/s]\n",
      "102it [00:15,  6.48it/s]\n"
     ]
    },
    {
     "name": "stdout",
     "output_type": "stream",
     "text": [
      "END OF EPOCH 13 / 50 val metric 7.264295670499473e-05\n"
     ]
    },
    {
     "name": "stderr",
     "output_type": "stream",
     "text": [
      "100%|██████████| 405/405 [01:49<00:00,  3.70it/s]\n",
      "102it [00:15,  6.42it/s]\n"
     ]
    },
    {
     "name": "stdout",
     "output_type": "stream",
     "text": [
      "END OF EPOCH 14 / 50 val metric 6.896694739502375e-05\n"
     ]
    },
    {
     "name": "stderr",
     "output_type": "stream",
     "text": [
      "100%|██████████| 405/405 [01:47<00:00,  3.75it/s]\n",
      "102it [00:15,  6.53it/s]\n"
     ]
    },
    {
     "name": "stdout",
     "output_type": "stream",
     "text": [
      "END OF EPOCH 15 / 50 val metric 6.640090193514142e-05\n"
     ]
    },
    {
     "name": "stderr",
     "output_type": "stream",
     "text": [
      "100%|██████████| 405/405 [01:46<00:00,  3.80it/s]\n",
      "102it [00:15,  6.62it/s]\n"
     ]
    },
    {
     "name": "stdout",
     "output_type": "stream",
     "text": [
      "END OF EPOCH 16 / 50 val metric 7.261311896708913e-05\n"
     ]
    },
    {
     "name": "stderr",
     "output_type": "stream",
     "text": [
      "100%|██████████| 405/405 [01:46<00:00,  3.81it/s]\n",
      "102it [00:15,  6.53it/s]\n"
     ]
    },
    {
     "name": "stdout",
     "output_type": "stream",
     "text": [
      "END OF EPOCH 17 / 50 val metric 7.171201928233973e-05\n"
     ]
    },
    {
     "name": "stderr",
     "output_type": "stream",
     "text": [
      "100%|██████████| 405/405 [01:46<00:00,  3.81it/s]\n",
      "102it [00:15,  6.53it/s]\n"
     ]
    },
    {
     "name": "stdout",
     "output_type": "stream",
     "text": [
      "END OF EPOCH 18 / 50 val metric 6.102414156455074e-05\n"
     ]
    },
    {
     "name": "stderr",
     "output_type": "stream",
     "text": [
      "100%|██████████| 405/405 [01:46<00:00,  3.80it/s]\n",
      "102it [00:15,  6.59it/s]\n"
     ]
    },
    {
     "name": "stdout",
     "output_type": "stream",
     "text": [
      "END OF EPOCH 19 / 50 val metric 5.510433436407799e-05\n"
     ]
    },
    {
     "name": "stderr",
     "output_type": "stream",
     "text": [
      "100%|██████████| 405/405 [01:46<00:00,  3.81it/s]\n",
      "102it [00:15,  6.49it/s]\n"
     ]
    },
    {
     "name": "stdout",
     "output_type": "stream",
     "text": [
      "END OF EPOCH 20 / 50 val metric 5.268747759372369e-05\n",
      "Beat the baseline for student\n",
      "Saving model\n"
     ]
    }
   ],
   "source": [
    "history1 = dkd_train(student, teacher, #Две модельки: ученик и учитель\n",
    "              train_loader, val_loader, #Два загрузчика: для трейна и валида\n",
    "              melspec_train, melspec_val, #melspec для трейна и валида\n",
    "              sopt,   sconfig\n",
    "             )"
   ]
  },
  {
   "cell_type": "code",
   "execution_count": null,
   "metadata": {
    "colab": {
     "base_uri": "https://localhost:8080/"
    },
    "id": "zvBSRd64CWV-",
    "outputId": "d048fcee-1481-4c09-93b1-6191a2477ded"
   },
   "outputs": [
    {
     "data": {
      "text/plain": [
       "[0.002236457806976988,\n",
       " 0.0008466458130716443,\n",
       " 0.0007054715399450478,\n",
       " 0.0006475743933130049,\n",
       " 0.00048233300079174443,\n",
       " 0.0004360188640146587,\n",
       " 0.0004463427213299993,\n",
       " 0.00036664612338411866,\n",
       " 0.00033257739424349475,\n",
       " 0.00033615195524458664,\n",
       " 0.0003162263138712212,\n",
       " 0.00033887912448915926,\n",
       " 0.00025535732854377964,\n",
       " 0.00026890962910050705,\n",
       " 0.00025407430581383847,\n",
       " 0.0002443084141973328,\n",
       " 0.00022700550998587033,\n",
       " 0.00022312063651056013,\n",
       " 0.00021875239168117898,\n",
       " 0.00020346950232592628,\n",
       " 0.00017662747330604076,\n",
       " 0.00016906659052075954,\n",
       " 0.00020060507948698784,\n",
       " 0.0001601809121724693,\n",
       " 0.00015463706046960722,\n",
       " 0.00015787147125857518,\n",
       " 0.00012847533187396957,\n",
       " 0.00012614202076975098,\n",
       " 0.00013198424985166914,\n",
       " 0.00013220504911217067,\n",
       " 0.0001165044314262394,\n",
       " 0.0001126314930460914,\n",
       " 0.00011181990657505885,\n",
       " 0.00012247197900736113,\n",
       " 0.00011964932900149054,\n",
       " 0.00011448740034382027,\n",
       " 0.0001091703154490408,\n",
       " 0.00010166910813957079,\n",
       " 0.00010721295984243287,\n",
       " 0.00010831098859735927,\n",
       " 9.906725739420172e-05,\n",
       " 9.981916838942305e-05,\n",
       " 9.533157260841951e-05,\n",
       " 9.411419290187069e-05,\n",
       " 0.00010024883181526382,\n",
       " 9.59342949141128e-05,\n",
       " 8.231635133399304e-05,\n",
       " 0.00010614476882541209,\n",
       " 9.825567092316915e-05,\n",
       " 8.476304584225296e-05]"
      ]
     },
     "execution_count": 51,
     "metadata": {},
     "output_type": "execute_result"
    }
   ],
   "source": [
    "#первая итерация\n",
    "history"
   ]
  },
  {
   "cell_type": "code",
   "execution_count": null,
   "metadata": {
    "colab": {
     "base_uri": "https://localhost:8080/"
    },
    "id": "B4yO91E5omkR",
    "outputId": "efe751ae-9da6-4465-c844-dd4b483e2305"
   },
   "outputs": [
    {
     "data": {
      "text/plain": [
       "[9.535544279874401e-05,\n",
       " 0.00010108428847662087,\n",
       " 7.804358726590989e-05,\n",
       " 8.146895957747375e-05,\n",
       " 9.553446922617767e-05,\n",
       " 9.192410293959902e-05,\n",
       " 7.411694095753179e-05,\n",
       " 7.759005364974465e-05,\n",
       " 9.049189152012981e-05,\n",
       " 8.710232449405266e-05,\n",
       " 0.00010677136132142987,\n",
       " 9.568365791570569e-05,\n",
       " 8.430652845229716e-05,\n",
       " 9.8345184136886e-05,\n",
       " 9.820196299493907e-05,\n",
       " 9.528383222777055e-05,\n",
       " 8.609380895284308e-05,\n",
       " 8.265650154611698e-05,\n",
       " 0.0001094448226377724,\n",
       " 9.198377841541022e-05,\n",
       " 8.762150113361026e-05,\n",
       " 9.132138063390573e-05,\n",
       " 0.00010968352454101726,\n",
       " 9.680555686095658e-05,\n",
       " 7.597284825526065e-05,\n",
       " 0.00010470062231078062,\n",
       " 8.272811211709044e-05,\n",
       " 9.57672035818414e-05,\n",
       " 8.542544362375747e-05,\n",
       " 7.379469338815122e-05,\n",
       " 8.851066572319738e-05,\n",
       " 8.262666380821138e-05,\n",
       " 7.88671088321047e-05,\n",
       " 8.399323220428823e-05,\n",
       " 5.8422290819181675e-05,\n",
       " 7.090043281130718e-05,\n",
       " 7.979804625475969e-05,\n",
       " 6.597123850930064e-05,\n",
       " 6.458079992289928e-05,\n",
       " 7.259521632434576e-05,\n",
       " 8.078269160564476e-05,\n",
       " 6.480159918340079e-05,\n",
       " 6.62875185311001e-05,\n",
       " 6.297552962357755e-05,\n",
       " 6.481950182614416e-05,\n",
       " 8.713812977953939e-05,\n",
       " 7.748263779328444e-05,\n",
       " 7.652186263272385e-05,\n",
       " 5.942782258660068e-05,\n",
       " 6.450918935192584e-05]"
      ]
     },
     "execution_count": 54,
     "metadata": {},
     "output_type": "execute_result"
    }
   ],
   "source": [
    "history0"
   ]
  },
  {
   "cell_type": "code",
   "execution_count": null,
   "metadata": {
    "colab": {
     "base_uri": "https://localhost:8080/"
    },
    "id": "P-9n-qiCooXg",
    "outputId": "6b09f49c-0c58-48c2-db20-922692cdc665"
   },
   "outputs": [
    {
     "data": {
      "text/plain": [
       "[8.608187385768086e-05,\n",
       " 5.756893151508126e-05,\n",
       " 7.871792014257665e-05,\n",
       " 7.723796834245846e-05,\n",
       " 6.045125699676306e-05,\n",
       " 9.589550585483552e-05,\n",
       " 6.494482032534771e-05,\n",
       " 6.097640118390176e-05,\n",
       " 5.8219394201423524e-05,\n",
       " 6.549980225039203e-05,\n",
       " 5.8625187436939805e-05,\n",
       " 9.316535283647234e-05,\n",
       " 7.368727753169103e-05,\n",
       " 7.264295670499473e-05,\n",
       " 6.896694739502375e-05,\n",
       " 6.640090193514142e-05,\n",
       " 7.261311896708913e-05,\n",
       " 7.171201928233973e-05,\n",
       " 6.102414156455074e-05,\n",
       " 5.510433436407799e-05,\n",
       " 5.268747759372369e-05]"
      ]
     },
     "execution_count": 55,
     "metadata": {},
     "output_type": "execute_result"
    }
   ],
   "source": [
    "history1"
   ]
  },
  {
   "cell_type": "code",
   "execution_count": null,
   "metadata": {
    "colab": {
     "base_uri": "https://localhost:8080/"
    },
    "id": "grc0dguxoudY",
    "outputId": "727b2081-315b-4394-c1ca-57872b09a937"
   },
   "outputs": [
    {
     "name": "stdout",
     "output_type": "stream",
     "text": [
      "[INFO] Register count_convNd() for <class 'torch.nn.modules.conv.Conv2d'>.\n",
      "\u001b[91m[WARN] Cannot find rule for <class 'torch.nn.modules.flatten.Flatten'>. Treat it as zero Macs and zero Params.\u001b[00m\n",
      "\u001b[91m[WARN] Cannot find rule for <class 'torch.nn.modules.container.Sequential'>. Treat it as zero Macs and zero Params.\u001b[00m\n",
      "[INFO] Register count_gru() for <class 'torch.nn.modules.rnn.GRU'>.\n",
      "[INFO] Register count_linear() for <class 'torch.nn.modules.linear.Linear'>.\n",
      "\u001b[91m[WARN] Cannot find rule for <class 'torch.nn.modules.activation.Tanh'>. Treat it as zero Macs and zero Params.\u001b[00m\n",
      "\u001b[91m[WARN] Cannot find rule for <class '__main__.Attention'>. Treat it as zero Macs and zero Params.\u001b[00m\n",
      "\u001b[91m[WARN] Cannot find rule for <class '__main__.CRNN'>. Treat it as zero Macs and zero Params.\u001b[00m\n",
      "(16866304.0, 5047.0)\n"
     ]
    }
   ],
   "source": [
    "from thop import profile\n",
    "for x, y in train_loader:\n",
    "    print(profile(student, (melspec_train(x.to(config.device)), ) )) \n",
    "    break"
   ]
  },
  {
   "cell_type": "code",
   "execution_count": null,
   "metadata": {
    "id": "jDZzpQFCo4qK"
   },
   "outputs": [],
   "source": [
    "torch.save(teacher.state_dict(), 'treacher3.pt')\n",
    "torch.save(student.state_dict(), 'student3.pt')"
   ]
  },
  {
   "cell_type": "markdown",
   "metadata": {},
   "source": [
    "После сохранения видно, что ужимание по памяти более чем в 10 раз"
   ]
  },
  {
   "cell_type": "markdown",
   "metadata": {},
   "source": [
    "Модели можно найти https://drive.google.com/drive/folders/18MKcm8OVxyBVavxHJk5J1wsV7w7GzTxQ"
   ]
  },
  {
   "cell_type": "code",
   "execution_count": 1,
   "metadata": {
    "id": "Z04aPrsw9pcH"
   },
   "outputs": [],
   "source": [
    "final_history = [0.002236457806976988,\n",
    " 0.0008466458130716443,\n",
    " 0.0007054715399450478,\n",
    " 0.0006475743933130049,\n",
    " 0.00048233300079174443,\n",
    " 0.0004360188640146587,\n",
    " 0.0004463427213299993,\n",
    " 0.00036664612338411866,\n",
    " 0.00033257739424349475,\n",
    " 0.00033615195524458664,\n",
    " 0.0003162263138712212,\n",
    " 0.00033887912448915926,\n",
    " 0.00025535732854377964,\n",
    " 0.00026890962910050705,\n",
    " 0.00025407430581383847,\n",
    " 0.0002443084141973328,\n",
    " 0.00022700550998587033,\n",
    " 0.00022312063651056013,\n",
    " 0.00021875239168117898,\n",
    " 0.00020346950232592628,\n",
    " 0.00017662747330604076,\n",
    " 0.00016906659052075954,\n",
    " 0.00020060507948698784,\n",
    " 0.0001601809121724693,\n",
    " 0.00015463706046960722,\n",
    " 0.00015787147125857518,\n",
    " 0.00012847533187396957,\n",
    " 0.00012614202076975098,\n",
    " 0.00013198424985166914,\n",
    " 0.00013220504911217067,\n",
    " 0.0001165044314262394,\n",
    " 0.0001126314930460914,\n",
    " 0.00011181990657505885,\n",
    " 0.00012247197900736113,\n",
    " 0.00011964932900149054,\n",
    " 0.00011448740034382027,\n",
    " 0.0001091703154490408,\n",
    " 0.00010166910813957079,\n",
    " 0.00010721295984243287,\n",
    " 0.00010831098859735927,\n",
    " 9.906725739420172e-05,\n",
    " 9.981916838942305e-05,\n",
    " 9.533157260841951e-05,\n",
    " 9.411419290187069e-05,\n",
    " 0.00010024883181526382,\n",
    " 9.59342949141128e-05,\n",
    " 8.231635133399304e-05,\n",
    " 0.00010614476882541209,\n",
    " 9.825567092316915e-05,\n",
    " 8.476304584225296e-05,\n",
    " 9.535544279874401e-05,\n",
    " 0.00010108428847662087,\n",
    " 7.804358726590989e-05,\n",
    " 8.146895957747375e-05,\n",
    " 9.553446922617767e-05,\n",
    " 9.192410293959902e-05,\n",
    " 7.411694095753179e-05,\n",
    " 7.759005364974465e-05,\n",
    " 9.049189152012981e-05,\n",
    " 8.710232449405266e-05,\n",
    " 0.00010677136132142987,\n",
    " 9.568365791570569e-05,\n",
    " 8.430652845229716e-05,\n",
    " 9.8345184136886e-05,\n",
    " 9.820196299493907e-05,\n",
    " 9.528383222777055e-05,\n",
    " 8.609380895284308e-05,\n",
    " 8.265650154611698e-05,\n",
    " 0.0001094448226377724,\n",
    " 9.198377841541022e-05,\n",
    " 8.762150113361026e-05,\n",
    " 9.132138063390573e-05,\n",
    " 0.00010968352454101726,\n",
    " 9.680555686095658e-05,\n",
    " 7.597284825526065e-05,\n",
    " 0.00010470062231078062,\n",
    " 8.272811211709044e-05,\n",
    " 9.57672035818414e-05,\n",
    " 8.542544362375747e-05,\n",
    " 7.379469338815122e-05,\n",
    " 8.851066572319738e-05,\n",
    " 8.262666380821138e-05,\n",
    " 7.88671088321047e-05,\n",
    " 8.399323220428823e-05,\n",
    " 5.8422290819181675e-05,\n",
    " 7.090043281130718e-05,\n",
    " 7.979804625475969e-05,\n",
    " 6.597123850930064e-05,\n",
    " 6.458079992289928e-05,\n",
    " 7.259521632434576e-05,\n",
    " 8.078269160564476e-05,\n",
    " 6.480159918340079e-05,\n",
    " 6.62875185311001e-05,\n",
    " 6.297552962357755e-05,\n",
    " 6.481950182614416e-05,\n",
    " 8.713812977953939e-05,\n",
    " 7.748263779328444e-05,\n",
    " 7.652186263272385e-05,\n",
    " 5.942782258660068e-05,\n",
    " 6.450918935192584e-05,\n",
    " 8.608187385768086e-05,\n",
    " 5.756893151508126e-05,\n",
    " 7.871792014257665e-05,\n",
    " 7.723796834245846e-05,\n",
    " 6.045125699676306e-05,\n",
    " 9.589550585483552e-05,\n",
    " 6.494482032534771e-05,\n",
    " 6.097640118390176e-05,\n",
    " 5.8219394201423524e-05,\n",
    " 6.549980225039203e-05,\n",
    " 5.8625187436939805e-05,\n",
    " 9.316535283647234e-05,\n",
    " 7.368727753169103e-05,\n",
    " 7.264295670499473e-05,\n",
    " 6.896694739502375e-05,\n",
    " 6.640090193514142e-05,\n",
    " 7.261311896708913e-05,\n",
    " 7.171201928233973e-05,\n",
    " 6.102414156455074e-05,\n",
    " 5.510433436407799e-05,\n",
    " 5.268747759372369e-05]"
   ]
  },
  {
   "cell_type": "code",
   "execution_count": 2,
   "metadata": {
    "id": "9FpgQUfV9pcH"
   },
   "outputs": [],
   "source": [
    "import numpy as np\n",
    "import matplotlib.pyplot as plt\n",
    "import seaborn as sns\n",
    "sns.set_style(\"darkgrid\")"
   ]
  },
  {
   "cell_type": "code",
   "execution_count": 6,
   "metadata": {
    "colab": {
     "base_uri": "https://localhost:8080/",
     "height": 296
    },
    "id": "hkhi1qpP9pcI",
    "outputId": "1722abbe-0e18-41bf-cde8-247977a1ad7c"
   },
   "outputs": [
    {
     "data": {
      "text/plain": [
       "Text(0, 0.5, 'val_metric')"
      ]
     },
     "execution_count": 6,
     "metadata": {},
     "output_type": "execute_result"
    },
    {
     "data": {
      "image/png": "[encoded data removed]",
      "text/plain": [
       "<Figure size 432x288 with 1 Axes>"
      ]
     },
     "metadata": {},
     "output_type": "display_data"
    }
   ],
   "source": [
    "sns.lineplot(x=list(range(len(final_history))), y=final_history, label='dkd')\n",
    "plt.xlabel('epoch')\n",
    "sns.lineplot(x=list(range(len(final_history))), y=[VERY_IMPORTANT_CONSTANT]*len(final_history), label='baseline', color='red')\n",
    "plt.ylabel('val_metric')"
   ]
  }
 ],
 "metadata": {
  "colab": {
   "collapsed_sections": [],
   "name": "Kogan_best_dkd.ipynb",
   "provenance": []
  },
  "kernelspec": {
   "display_name": "Python 3 (ipykernel)",
   "language": "python",
   "name": "python3"
  },
  "language_info": {
   "codemirror_mode": {
    "name": "ipython",
    "version": 3
   },
   "file_extension": ".py",
   "mimetype": "text/x-python",
   "name": "python",
   "nbconvert_exporter": "python",
   "pygments_lexer": "ipython3",
   "version": "3.9.7"
  },
  "notebookId": "2a8afe45-eb94-4803-b1be-290c3d828e68",
  "notebookPath": "seminar.ipynb"
 },
 "nbformat": 4,
 "nbformat_minor": 1
}
